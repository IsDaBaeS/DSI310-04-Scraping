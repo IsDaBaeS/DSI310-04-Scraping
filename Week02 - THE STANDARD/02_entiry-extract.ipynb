{
 "cells": [
  {
   "cell_type": "markdown",
   "id": "512d7ea4-5008-412e-8ef2-68dc225fb267",
   "metadata": {},
   "source": [
    "# 02_entiry-extract"
   ]
  },
  {
   "cell_type": "markdown",
   "id": "2af8db3a-2d6f-4653-bcdc-1c0aa7f6f1ce",
   "metadata": {},
   "source": [
    "## read stored data from DataPlatform"
   ]
  },
  {
   "cell_type": "code",
   "execution_count": null,
   "id": "98e16618-7254-4c9a-b843-56009e688d3c",
   "metadata": {},
   "outputs": [],
   "source": [
    "from dsmlibrary.datanode import DataNode\n",
    "import json\n",
    "from tqdm.auto import tqdm\n",
    "import pandas as pd"
   ]
  },
  {
   "cell_type": "code",
   "execution_count": null,
   "id": "bfa53b71-e625-495a-af11-0973bc3a2e29",
   "metadata": {},
   "outputs": [],
   "source": [
    "dir_raw_id = 60\n",
    "dir_process_id = 61"
   ]
  },
  {
   "cell_type": "code",
   "execution_count": null,
   "id": "0e852b7d-4164-4c91-8c6e-9fe79a25d3fc",
   "metadata": {},
   "outputs": [],
   "source": [
    "datanode = DataNode()"
   ]
  },
  {
   "cell_type": "code",
   "execution_count": null,
   "id": "b5687abc-e2f9-4045-a030-0429525f22e6",
   "metadata": {},
   "outputs": [],
   "source": [
    "meta, fp = datanode.get_file(datanode.get_file_id(directory_id=dir_raw_id, name='exporting_durians_the_standard.json'))\n",
    "meta"
   ]
  },
  {
   "cell_type": "code",
   "execution_count": null,
   "id": "8f1a8dcf-d72d-4ee6-bdbb-735367bc5e80",
   "metadata": {},
   "outputs": [],
   "source": [
    "data = json.load(fp)\n",
    "data"
   ]
  },
  {
   "cell_type": "code",
   "execution_count": null,
   "id": "e3ffa44f-64f5-4c50-b6e5-1ba6d9a6d465",
   "metadata": {},
   "outputs": [],
   "source": [
    "df = pd.json_normalize(data)\n",
    "df.head()"
   ]
  },
  {
   "cell_type": "code",
   "execution_count": null,
   "id": "6f1f3340-9331-4543-979a-bab5af5df983",
   "metadata": {},
   "outputs": [],
   "source": [
    "df[['publish_date', 'retrieve_date']] = df[['publish_date', 'retrieve_date']].astype('datetime64')\n",
    "df.info()"
   ]
  },
  {
   "cell_type": "markdown",
   "id": "6ba9cbd0-4eed-4f89-b2b8-e8282def4eba",
   "metadata": {},
   "source": [
    "## write DataNode to DataPlatform"
   ]
  },
  {
   "cell_type": "code",
   "execution_count": null,
   "id": "270f82a3-0f3e-43be-b720-a978ade57214",
   "metadata": {},
   "outputs": [],
   "source": [
    "datanode.write(df=df, directory=dir_process_id, name=\"News Exporting Durians from THE STANDARD\", \n",
    "               profiling=True, \n",
    "               lineage=[datanode.get_file_id(directory_id=dir_raw_id, name='exporting_durians_the_standard.json')])"
   ]
  },
  {
   "cell_type": "code",
   "execution_count": null,
   "id": "1a799945-4215-4de7-ac0f-132482f9c210",
   "metadata": {},
   "outputs": [],
   "source": []
  }
 ],
 "metadata": {
  "kernelspec": {
   "display_name": "Python 3 (ipykernel)",
   "language": "python",
   "name": "python3"
  },
  "language_info": {
   "codemirror_mode": {
    "name": "ipython",
    "version": 3
   },
   "file_extension": ".py",
   "mimetype": "text/x-python",
   "name": "python",
   "nbconvert_exporter": "python",
   "pygments_lexer": "ipython3",
   "version": "3.10.5"
  }
 },
 "nbformat": 4,
 "nbformat_minor": 5
}

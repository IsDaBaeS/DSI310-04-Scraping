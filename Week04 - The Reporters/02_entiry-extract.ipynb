{
 "cells": [
  {
   "cell_type": "markdown",
   "id": "4fff7b14-cdc0-44d0-8268-5d003f8a59c7",
   "metadata": {},
   "source": [
    "# 02_entiry-extract"
   ]
  },
  {
   "cell_type": "markdown",
   "id": "32eeeae5-7307-42ad-ae5b-b9762342eb7e",
   "metadata": {},
   "source": [
    "## read stored data from DataPlatform"
   ]
  },
  {
   "cell_type": "code",
   "execution_count": 1,
   "id": "b17ad345-a360-418b-8289-b1d6a89cd742",
   "metadata": {},
   "outputs": [],
   "source": [
    "from dsmlibrary.datanode import DataNode\n",
    "import json\n",
    "from tqdm.auto import tqdm\n",
    "import pandas as pd"
   ]
  },
  {
   "cell_type": "code",
   "execution_count": 2,
   "id": "aafd70f9-552d-4793-818a-eb9fd5ad650b",
   "metadata": {},
   "outputs": [],
   "source": [
    "dir_raw_id = 60\n",
    "dir_process_id = 61"
   ]
  },
  {
   "cell_type": "code",
   "execution_count": 3,
   "id": "d4ed2d6d-e994-4ac3-8167-a6ae006e0ad6",
   "metadata": {},
   "outputs": [
    {
     "name": "stdout",
     "output_type": "stream",
     "text": [
      "Init DataNode sucessful!\n"
     ]
    }
   ],
   "source": [
    "datanode = DataNode()"
   ]
  },
  {
   "cell_type": "code",
   "execution_count": null,
   "id": "83488095-689c-43c7-8d90-e9d91b4abca7",
   "metadata": {},
   "outputs": [],
   "source": [
    "meta, fp = datanode.get_file(datanode.get_file_id(directory_id=dir_raw_id, name='exporting_durians_the_reporters.json'))\n",
    "meta"
   ]
  },
  {
   "cell_type": "code",
   "execution_count": null,
   "id": "e9da34df-38e8-4641-8491-7341279cf474",
   "metadata": {},
   "outputs": [],
   "source": [
    "data = json.load(fp)\n",
    "data"
   ]
  },
  {
   "cell_type": "code",
   "execution_count": 7,
   "id": "35f5ca36-2948-4db4-abb8-0de8a3541ff0",
   "metadata": {},
   "outputs": [
    {
     "data": {
      "text/html": [
       "<div>\n",
       "<style scoped>\n",
       "    .dataframe tbody tr th:only-of-type {\n",
       "        vertical-align: middle;\n",
       "    }\n",
       "\n",
       "    .dataframe tbody tr th {\n",
       "        vertical-align: top;\n",
       "    }\n",
       "\n",
       "    .dataframe thead th {\n",
       "        text-align: right;\n",
       "    }\n",
       "</style>\n",
       "<table border=\"1\" class=\"dataframe\">\n",
       "  <thead>\n",
       "    <tr style=\"text-align: right;\">\n",
       "      <th></th>\n",
       "      <th>title</th>\n",
       "      <th>content</th>\n",
       "      <th>source_url</th>\n",
       "      <th>publish_date</th>\n",
       "      <th>retrieve_date</th>\n",
       "    </tr>\n",
       "  </thead>\n",
       "  <tbody>\n",
       "    <tr>\n",
       "      <th>0</th>\n",
       "      <td>นายกฯ ยินดีส่งออกทุเรียนไทยไปจีนทะลุเกินเป้า 5...</td>\n",
       "      <td>นายธนกร วังบุญคงชนะ โฆษกประจำสำนักนายกรัฐมนตรี...</td>\n",
       "      <td>https://www.thereporters.co/business/2406221021/</td>\n",
       "      <td>2022-06-24</td>\n",
       "      <td>2022-11-06</td>\n",
       "    </tr>\n",
       "    <tr>\n",
       "      <th>1</th>\n",
       "      <td>“จุรินทร์” เปิดงาน “พาณิชย์ Fruit Festival 202...</td>\n",
       "      <td>วันนี้ (2 พ.ค. 65) ณ ลานหน้าศูนย์การค้าเซ็นทรั...</td>\n",
       "      <td>https://www.thereporters.co/tw-politics/020522...</td>\n",
       "      <td>2022-05-02</td>\n",
       "      <td>2022-11-06</td>\n",
       "    </tr>\n",
       "    <tr>\n",
       "      <th>2</th>\n",
       "      <td>ก.เกษตรฯ ดีเดย์ 22 เม.ย.นี้ ‘Big ATK Day’ ฆ่าเ...</td>\n",
       "      <td>นายอลงกรณ์ พลบุตร ที่ปรึกษารัฐมนตรีว่าการกระทร...</td>\n",
       "      <td>https://www.thereporters.co/tw-politics/180422...</td>\n",
       "      <td>2022-04-18</td>\n",
       "      <td>2022-11-06</td>\n",
       "    </tr>\n",
       "    <tr>\n",
       "      <th>3</th>\n",
       "      <td>‘ทุเรียนไทย’ กุญแจนำทางยักษ์ใหญ่วงการ ‘ผลไม้’ ...</td>\n",
       "      <td>ฉงชิ่ง – เทศบาลนครฉงชิ่งทางตะวันตกเฉียงใต้ของจ...</td>\n",
       "      <td>https://www.thereporters.co/tw-food/290920222118/</td>\n",
       "      <td>2022-09-29</td>\n",
       "      <td>2022-11-06</td>\n",
       "    </tr>\n",
       "    <tr>\n",
       "      <th>4</th>\n",
       "      <td>อลงกรณ์”เผยจีนเปิดด่านรถไฟผิงเสียงขนทุเรียนไทย...</td>\n",
       "      <td>นายอลงกรณ์ พลบุตร ที่ปรึกษารัฐมนตรีว่าการกระทร...</td>\n",
       "      <td>https://www.thereporters.co/tw-politics/290422...</td>\n",
       "      <td>2022-04-29</td>\n",
       "      <td>2022-11-06</td>\n",
       "    </tr>\n",
       "  </tbody>\n",
       "</table>\n",
       "</div>"
      ],
      "text/plain": [
       "                                               title  \\\n",
       "0  นายกฯ ยินดีส่งออกทุเรียนไทยไปจีนทะลุเกินเป้า 5...   \n",
       "1  “จุรินทร์” เปิดงาน “พาณิชย์ Fruit Festival 202...   \n",
       "2  ก.เกษตรฯ ดีเดย์ 22 เม.ย.นี้ ‘Big ATK Day’ ฆ่าเ...   \n",
       "3  ‘ทุเรียนไทย’ กุญแจนำทางยักษ์ใหญ่วงการ ‘ผลไม้’ ...   \n",
       "4  อลงกรณ์”เผยจีนเปิดด่านรถไฟผิงเสียงขนทุเรียนไทย...   \n",
       "\n",
       "                                             content  \\\n",
       "0  นายธนกร วังบุญคงชนะ โฆษกประจำสำนักนายกรัฐมนตรี...   \n",
       "1  วันนี้ (2 พ.ค. 65) ณ ลานหน้าศูนย์การค้าเซ็นทรั...   \n",
       "2  นายอลงกรณ์ พลบุตร ที่ปรึกษารัฐมนตรีว่าการกระทร...   \n",
       "3  ฉงชิ่ง – เทศบาลนครฉงชิ่งทางตะวันตกเฉียงใต้ของจ...   \n",
       "4  นายอลงกรณ์ พลบุตร ที่ปรึกษารัฐมนตรีว่าการกระทร...   \n",
       "\n",
       "                                          source_url publish_date  \\\n",
       "0   https://www.thereporters.co/business/2406221021/   2022-06-24   \n",
       "1  https://www.thereporters.co/tw-politics/020522...   2022-05-02   \n",
       "2  https://www.thereporters.co/tw-politics/180422...   2022-04-18   \n",
       "3  https://www.thereporters.co/tw-food/290920222118/   2022-09-29   \n",
       "4  https://www.thereporters.co/tw-politics/290422...   2022-04-29   \n",
       "\n",
       "  retrieve_date  \n",
       "0    2022-11-06  \n",
       "1    2022-11-06  \n",
       "2    2022-11-06  \n",
       "3    2022-11-06  \n",
       "4    2022-11-06  "
      ]
     },
     "execution_count": 7,
     "metadata": {},
     "output_type": "execute_result"
    }
   ],
   "source": [
    "df = pd.json_normalize(data)\n",
    "df.head()"
   ]
  },
  {
   "cell_type": "code",
   "execution_count": 9,
   "id": "bba4990e-d9ea-4093-8229-132139435a34",
   "metadata": {},
   "outputs": [
    {
     "name": "stdout",
     "output_type": "stream",
     "text": [
      "<class 'pandas.core.frame.DataFrame'>\n",
      "RangeIndex: 13 entries, 0 to 12\n",
      "Data columns (total 5 columns):\n",
      " #   Column         Non-Null Count  Dtype \n",
      "---  ------         --------------  ----- \n",
      " 0   title          13 non-null     object\n",
      " 1   content        13 non-null     object\n",
      " 2   source_url     13 non-null     object\n",
      " 3   publish_date   13 non-null     object\n",
      " 4   retrieve_date  13 non-null     object\n",
      "dtypes: object(5)\n",
      "memory usage: 648.0+ bytes\n"
     ]
    }
   ],
   "source": [
    "df.info()"
   ]
  },
  {
   "cell_type": "code",
   "execution_count": 10,
   "id": "44c802ec-ccab-448c-8e21-1f50b2e2cef9",
   "metadata": {},
   "outputs": [
    {
     "name": "stdout",
     "output_type": "stream",
     "text": [
      "<class 'pandas.core.frame.DataFrame'>\n",
      "RangeIndex: 13 entries, 0 to 12\n",
      "Data columns (total 5 columns):\n",
      " #   Column         Non-Null Count  Dtype         \n",
      "---  ------         --------------  -----         \n",
      " 0   title          13 non-null     object        \n",
      " 1   content        13 non-null     object        \n",
      " 2   source_url     13 non-null     object        \n",
      " 3   publish_date   13 non-null     datetime64[ns]\n",
      " 4   retrieve_date  13 non-null     datetime64[ns]\n",
      "dtypes: datetime64[ns](2), object(3)\n",
      "memory usage: 648.0+ bytes\n"
     ]
    }
   ],
   "source": [
    "df[['publish_date', 'retrieve_date']] = df[['publish_date', 'retrieve_date']].astype('datetime64')\n",
    "df.info()"
   ]
  },
  {
   "cell_type": "markdown",
   "id": "0c10b19a-ee1f-4ba1-80dd-67557372f922",
   "metadata": {},
   "source": [
    "## write DataNode to DataPlatform"
   ]
  },
  {
   "cell_type": "code",
   "execution_count": null,
   "id": "71a5046d-d678-4fda-b95c-66975af8f11b",
   "metadata": {},
   "outputs": [],
   "source": [
    "datanode.write(df=df, \n",
    "               directory=dir_process_id, \n",
    "               name=\"News Exporting Durians from The Reporters\", \n",
    "               profiling=True, \n",
    "               lineage=[datanode.get_file_id(directory_id=dir_raw_id, name='exporting_durians_the_reporters.json')])"
   ]
  },
  {
   "cell_type": "code",
   "execution_count": null,
   "id": "e8d3c21b-9e7a-4afd-8aaa-2574312eba5f",
   "metadata": {},
   "outputs": [],
   "source": []
  }
 ],
 "metadata": {
  "kernelspec": {
   "display_name": "Python 3 (ipykernel)",
   "language": "python",
   "name": "python3"
  },
  "language_info": {
   "codemirror_mode": {
    "name": "ipython",
    "version": 3
   },
   "file_extension": ".py",
   "mimetype": "text/x-python",
   "name": "python",
   "nbconvert_exporter": "python",
   "pygments_lexer": "ipython3",
   "version": "3.10.5"
  }
 },
 "nbformat": 4,
 "nbformat_minor": 5
}

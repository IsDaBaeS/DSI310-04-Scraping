{
 "cells": [
  {
   "cell_type": "markdown",
   "id": "c23b2378",
   "metadata": {},
   "source": [
    "# 01_scrap"
   ]
  },
  {
   "cell_type": "markdown",
   "id": "b31f3a9b",
   "metadata": {},
   "source": [
    "## Getting data from The Reporters"
   ]
  },
  {
   "cell_type": "code",
   "execution_count": 1,
   "id": "020067dc",
   "metadata": {},
   "outputs": [],
   "source": [
    "from bs4 import BeautifulSoup\n",
    "import requests\n",
    "import datetime\n",
    "import pandas as pd\n",
    "import json"
   ]
  },
  {
   "cell_type": "code",
   "execution_count": 2,
   "id": "fc3bf270",
   "metadata": {},
   "outputs": [],
   "source": [
    "url = 'https://www.thereporters.co/page/'"
   ]
  },
  {
   "cell_type": "code",
   "execution_count": 3,
   "id": "46bd5330",
   "metadata": {},
   "outputs": [
    {
     "data": {
      "text/plain": [
       "<Response [200]>"
      ]
     },
     "execution_count": 3,
     "metadata": {},
     "output_type": "execute_result"
    }
   ],
   "source": [
    "bs = []\n",
    "page = 1\n",
    "\n",
    "while page <= 2:\n",
    "    r = requests.get(url + str(page) + '/?s=ส่งออกทุเรียน')\n",
    "    s = BeautifulSoup(r.content, 'html.parser')\n",
    "    bs.append(s)\n",
    "    page += 1\n",
    "r"
   ]
  },
  {
   "cell_type": "code",
   "execution_count": 4,
   "id": "35805f69",
   "metadata": {},
   "outputs": [],
   "source": [
    "title = []\n",
    "content = []\n",
    "source_url = []\n",
    "publish_date = []\n",
    "retrieve_date = []"
   ]
  },
  {
   "cell_type": "code",
   "execution_count": 5,
   "id": "8f81114f",
   "metadata": {},
   "outputs": [],
   "source": [
    "for i in range(len(bs)):\n",
    "    for t in bs[i].find_all('div', {'class':'entry-blog-list-right'}):\n",
    "        links = t.find('a')['href']\n",
    "        source_url.append(links)\n",
    "# print(len(source_url))"
   ]
  },
  {
   "cell_type": "code",
   "execution_count": 6,
   "id": "f43812c1",
   "metadata": {},
   "outputs": [],
   "source": [
    "for u in source_url:\n",
    "    news_url = requests.get(u)\n",
    "    bs_news = BeautifulSoup(news_url.content, 'html.parser')\n",
    "    \n",
    "    for j in bs_news.find_all('div', {'class':'blog-header'}):\n",
    "        topic = j.find('h1').text\n",
    "        topic = topic.strip()\n",
    "        topic = topic.replace('\\n', '')\n",
    "        title.append(topic)\n",
    "        \n",
    "        publish = j.find('time')['datetime']\n",
    "        publish = publish.split('T')[0]\n",
    "        publish_date.append(publish)\n",
    "        \n",
    "        retrieve = str(datetime.date.today())\n",
    "        retrieve_date.append(retrieve)\n",
    "        \n",
    "    for k in bs_news.find_all('div', {'class':'single-entry-summary-post-content'}):\n",
    "        con = k.text\n",
    "        con = con.strip()\n",
    "        con = con.replace('\\n', ' ')\n",
    "        con = con.replace('\\xa0', ' ')\n",
    "        content.append(con)\n",
    "\n",
    "# print(content)"
   ]
  },
  {
   "cell_type": "code",
   "execution_count": 7,
   "id": "3c8d59fc",
   "metadata": {},
   "outputs": [
    {
     "data": {
      "text/html": [
       "<div>\n",
       "<style scoped>\n",
       "    .dataframe tbody tr th:only-of-type {\n",
       "        vertical-align: middle;\n",
       "    }\n",
       "\n",
       "    .dataframe tbody tr th {\n",
       "        vertical-align: top;\n",
       "    }\n",
       "\n",
       "    .dataframe thead th {\n",
       "        text-align: right;\n",
       "    }\n",
       "</style>\n",
       "<table border=\"1\" class=\"dataframe\">\n",
       "  <thead>\n",
       "    <tr style=\"text-align: right;\">\n",
       "      <th></th>\n",
       "      <th>title</th>\n",
       "      <th>content</th>\n",
       "      <th>source_url</th>\n",
       "      <th>publish_date</th>\n",
       "      <th>retrieve_date</th>\n",
       "    </tr>\n",
       "  </thead>\n",
       "  <tbody>\n",
       "    <tr>\n",
       "      <th>0</th>\n",
       "      <td>นายกฯ ยินดีส่งออกทุเรียนไทยไปจีนทะลุเกินเป้า 5...</td>\n",
       "      <td>นายธนกร วังบุญคงชนะ โฆษกประจำสำนักนายกรัฐมนตรี...</td>\n",
       "      <td>https://www.thereporters.co/business/2406221021/</td>\n",
       "      <td>2022-06-24</td>\n",
       "      <td>2022-11-06</td>\n",
       "    </tr>\n",
       "    <tr>\n",
       "      <th>1</th>\n",
       "      <td>“จุรินทร์” เปิดงาน “พาณิชย์ Fruit Festival 202...</td>\n",
       "      <td>วันนี้ (2 พ.ค. 65) ณ ลานหน้าศูนย์การค้าเซ็นทรั...</td>\n",
       "      <td>https://www.thereporters.co/tw-politics/020522...</td>\n",
       "      <td>2022-05-02</td>\n",
       "      <td>2022-11-06</td>\n",
       "    </tr>\n",
       "    <tr>\n",
       "      <th>2</th>\n",
       "      <td>ก.เกษตรฯ ดีเดย์ 22 เม.ย.นี้ ‘Big ATK Day’ ฆ่าเ...</td>\n",
       "      <td>นายอลงกรณ์ พลบุตร ที่ปรึกษารัฐมนตรีว่าการกระทร...</td>\n",
       "      <td>https://www.thereporters.co/tw-politics/180422...</td>\n",
       "      <td>2022-04-18</td>\n",
       "      <td>2022-11-06</td>\n",
       "    </tr>\n",
       "    <tr>\n",
       "      <th>3</th>\n",
       "      <td>‘ทุเรียนไทย’ กุญแจนำทางยักษ์ใหญ่วงการ ‘ผลไม้’ ...</td>\n",
       "      <td>ฉงชิ่ง – เทศบาลนครฉงชิ่งทางตะวันตกเฉียงใต้ของจ...</td>\n",
       "      <td>https://www.thereporters.co/tw-food/290920222118/</td>\n",
       "      <td>2022-09-29</td>\n",
       "      <td>2022-11-06</td>\n",
       "    </tr>\n",
       "    <tr>\n",
       "      <th>4</th>\n",
       "      <td>อลงกรณ์”เผยจีนเปิดด่านรถไฟผิงเสียงขนทุเรียนไทย...</td>\n",
       "      <td>นายอลงกรณ์ พลบุตร ที่ปรึกษารัฐมนตรีว่าการกระทร...</td>\n",
       "      <td>https://www.thereporters.co/tw-politics/290422...</td>\n",
       "      <td>2022-04-29</td>\n",
       "      <td>2022-11-06</td>\n",
       "    </tr>\n",
       "  </tbody>\n",
       "</table>\n",
       "</div>"
      ],
      "text/plain": [
       "                                               title  \\\n",
       "0  นายกฯ ยินดีส่งออกทุเรียนไทยไปจีนทะลุเกินเป้า 5...   \n",
       "1  “จุรินทร์” เปิดงาน “พาณิชย์ Fruit Festival 202...   \n",
       "2  ก.เกษตรฯ ดีเดย์ 22 เม.ย.นี้ ‘Big ATK Day’ ฆ่าเ...   \n",
       "3  ‘ทุเรียนไทย’ กุญแจนำทางยักษ์ใหญ่วงการ ‘ผลไม้’ ...   \n",
       "4  อลงกรณ์”เผยจีนเปิดด่านรถไฟผิงเสียงขนทุเรียนไทย...   \n",
       "\n",
       "                                             content  \\\n",
       "0  นายธนกร วังบุญคงชนะ โฆษกประจำสำนักนายกรัฐมนตรี...   \n",
       "1  วันนี้ (2 พ.ค. 65) ณ ลานหน้าศูนย์การค้าเซ็นทรั...   \n",
       "2  นายอลงกรณ์ พลบุตร ที่ปรึกษารัฐมนตรีว่าการกระทร...   \n",
       "3  ฉงชิ่ง – เทศบาลนครฉงชิ่งทางตะวันตกเฉียงใต้ของจ...   \n",
       "4  นายอลงกรณ์ พลบุตร ที่ปรึกษารัฐมนตรีว่าการกระทร...   \n",
       "\n",
       "                                          source_url publish_date  \\\n",
       "0   https://www.thereporters.co/business/2406221021/   2022-06-24   \n",
       "1  https://www.thereporters.co/tw-politics/020522...   2022-05-02   \n",
       "2  https://www.thereporters.co/tw-politics/180422...   2022-04-18   \n",
       "3  https://www.thereporters.co/tw-food/290920222118/   2022-09-29   \n",
       "4  https://www.thereporters.co/tw-politics/290422...   2022-04-29   \n",
       "\n",
       "  retrieve_date  \n",
       "0    2022-11-06  \n",
       "1    2022-11-06  \n",
       "2    2022-11-06  \n",
       "3    2022-11-06  \n",
       "4    2022-11-06  "
      ]
     },
     "execution_count": 7,
     "metadata": {},
     "output_type": "execute_result"
    }
   ],
   "source": [
    "table = pd.DataFrame([title, content, source_url, publish_date, retrieve_date]).transpose()\n",
    "table.columns = ['title', 'content', 'source_url', 'publish_date', 'retrieve_date']\n",
    "table.head()"
   ]
  },
  {
   "cell_type": "code",
   "execution_count": 8,
   "id": "1b6efeb6",
   "metadata": {},
   "outputs": [
    {
     "name": "stdout",
     "output_type": "stream",
     "text": [
      "Total news : 13\n"
     ]
    }
   ],
   "source": [
    "table_1 = table.to_dict('records')\n",
    "print(f\"Total news : {len(table_1)}\")"
   ]
  },
  {
   "cell_type": "code",
   "execution_count": 9,
   "id": "7281d5ee-320b-4095-9e8b-1fa45100d440",
   "metadata": {},
   "outputs": [],
   "source": [
    "with open('exporting_durians_the_reporters.json', 'w') as f:\n",
    "    json.dump(table_1, f)"
   ]
  },
  {
   "cell_type": "markdown",
   "id": "8bf12930-1f18-423e-8b54-a1ac29c4ba56",
   "metadata": {},
   "source": [
    "## Upload data to DataPlatform"
   ]
  },
  {
   "cell_type": "code",
   "execution_count": 10,
   "id": "c6218d14-c7b6-47c2-af60-c8579055c07d",
   "metadata": {},
   "outputs": [],
   "source": [
    "from dsmlibrary.datanode import DataNode"
   ]
  },
  {
   "cell_type": "code",
   "execution_count": 11,
   "id": "674b8861-de07-47e9-819a-abc7587d2fd9",
   "metadata": {},
   "outputs": [],
   "source": [
    "dir_raw_id = 60"
   ]
  },
  {
   "cell_type": "code",
   "execution_count": 12,
   "id": "7c20bb92-df66-41be-ad7e-8868526e2459",
   "metadata": {},
   "outputs": [
    {
     "name": "stdout",
     "output_type": "stream",
     "text": [
      "Init DataNode sucessful!\n"
     ]
    }
   ],
   "source": [
    "datanode = DataNode()"
   ]
  },
  {
   "cell_type": "code",
   "execution_count": null,
   "id": "ff2cc204-f699-44f8-aee4-918f94afb995",
   "metadata": {},
   "outputs": [],
   "source": [
    "datanode.upload_file(directory_id=dir_raw_id, file_path='exporting_durians_the_reporters.json')"
   ]
  }
 ],
 "metadata": {
  "kernelspec": {
   "display_name": "Python 3 (ipykernel)",
   "language": "python",
   "name": "python3"
  },
  "language_info": {
   "codemirror_mode": {
    "name": "ipython",
    "version": 3
   },
   "file_extension": ".py",
   "mimetype": "text/x-python",
   "name": "python",
   "nbconvert_exporter": "python",
   "pygments_lexer": "ipython3",
   "version": "3.10.5"
  }
 },
 "nbformat": 4,
 "nbformat_minor": 5
}

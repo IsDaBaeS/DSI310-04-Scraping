{
 "cells": [
  {
   "cell_type": "markdown",
   "id": "159e859f-de14-483b-b9e6-2e0aa05e604d",
   "metadata": {},
   "source": [
    "# 02_entiry-extract"
   ]
  },
  {
   "cell_type": "markdown",
   "id": "1b2f8145-2def-42e0-bff7-cf74c4c8878f",
   "metadata": {},
   "source": [
    "## read stored data from DataPlatform"
   ]
  },
  {
   "cell_type": "code",
   "execution_count": null,
   "id": "175d0200-248b-4294-96a4-448130ab0063",
   "metadata": {},
   "outputs": [],
   "source": [
    "from dsmlibrary.datanode import DataNode\n",
    "import json\n",
    "from tqdm.auto import tqdm\n",
    "import pandas as pd"
   ]
  },
  {
   "cell_type": "code",
   "execution_count": null,
   "id": "f1389ff3-aeb5-4b6f-ba5d-6907b29cded4",
   "metadata": {},
   "outputs": [],
   "source": [
    "dir_raw_id = 60\n",
    "dir_process_id = 61"
   ]
  },
  {
   "cell_type": "code",
   "execution_count": null,
   "id": "72ee7c24-b095-4c4e-8dd4-dc597278d5c8",
   "metadata": {},
   "outputs": [],
   "source": [
    "datanode = DataNode()"
   ]
  },
  {
   "cell_type": "code",
   "execution_count": null,
   "id": "c9e53576-21c3-4451-8209-6fedfad0cc0e",
   "metadata": {},
   "outputs": [],
   "source": [
    "meta, fp = datanode.get_file(datanode.get_file_id(directory_id=dir_raw_id, name='exporting_durians_thai_pbs.json'))\n",
    "meta"
   ]
  },
  {
   "cell_type": "code",
   "execution_count": null,
   "id": "874fd5fe-9231-44f6-977d-03fd700335b2",
   "metadata": {},
   "outputs": [],
   "source": [
    "data = json.load(fp)"
   ]
  },
  {
   "cell_type": "code",
   "execution_count": null,
   "id": "eb2170d8-0598-4fd9-ade6-be522a8f8f87",
   "metadata": {},
   "outputs": [],
   "source": [
    "df = pd.json_normalize(data)\n",
    "df.head()"
   ]
  },
  {
   "cell_type": "code",
   "execution_count": null,
   "id": "cc6ab614-53bb-4b77-a08d-eee30a3ccd66",
   "metadata": {},
   "outputs": [],
   "source": [
    "df['retrieve_date'] = df['retrieve_date'].astype('datetime64')\n",
    "df.info()"
   ]
  },
  {
   "cell_type": "markdown",
   "id": "6afcaed7-7b6e-470a-885f-fefafe6922b5",
   "metadata": {},
   "source": [
    "## write DataNode to DataPlatform"
   ]
  },
  {
   "cell_type": "code",
   "execution_count": null,
   "id": "6d358e58-fd59-4663-a796-5a8bd694ccb1",
   "metadata": {},
   "outputs": [],
   "source": [
    "datanode.write(df=df, directory=dir_process_id, \n",
    "               name=\"News Exporting Durians from ThaiPBS\", \n",
    "               profiling=True, \n",
    "               lineage=[datanode.get_file_id(directory_id=dir_raw_id, name='exporting_durians_thai_pbs.json')])"
   ]
  },
  {
   "cell_type": "code",
   "execution_count": null,
   "id": "cd6d96b3-03d7-41ae-9f01-893841f64f1b",
   "metadata": {},
   "outputs": [],
   "source": []
  }
 ],
 "metadata": {
  "kernelspec": {
   "display_name": "Python 3 (ipykernel)",
   "language": "python",
   "name": "python3"
  },
  "language_info": {
   "codemirror_mode": {
    "name": "ipython",
    "version": 3
   },
   "file_extension": ".py",
   "mimetype": "text/x-python",
   "name": "python",
   "nbconvert_exporter": "python",
   "pygments_lexer": "ipython3",
   "version": "3.10.5"
  }
 },
 "nbformat": 4,
 "nbformat_minor": 5
}

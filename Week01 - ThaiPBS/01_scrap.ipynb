{
 "cells": [
  {
   "cell_type": "markdown",
   "id": "b607e82f-8231-4a82-a575-894d00651a17",
   "metadata": {},
   "source": [
    "# 01_scrap"
   ]
  },
  {
   "cell_type": "markdown",
   "id": "4ea3debb-900f-4163-bf98-9e21d993c969",
   "metadata": {},
   "source": [
    "## Getting data from ThaiPBS"
   ]
  },
  {
   "cell_type": "code",
   "execution_count": 1,
   "id": "6279384c-f8c6-409e-98be-26276c201a01",
   "metadata": {},
   "outputs": [],
   "source": [
    "from bs4 import BeautifulSoup as soup\n",
    "import requests\n",
    "import datetime\n",
    "import pandas as pd\n",
    "import json"
   ]
  },
  {
   "cell_type": "code",
   "execution_count": 2,
   "id": "84c5b9ff-6936-469b-b1f8-9aadb446d377",
   "metadata": {},
   "outputs": [],
   "source": [
    "r = requests.get('https://www.thaipbs.or.th/search?q=ืุส่งออกทุเรียน&siteType=news&type=&published_range=&page=1')\n",
    "b = soup(r.content, 'html.parser')"
   ]
  },
  {
   "cell_type": "code",
   "execution_count": 3,
   "id": "27580ab9-02de-42c5-9b1a-7eeccf5b379b",
   "metadata": {},
   "outputs": [],
   "source": [
    "title = []\n",
    "summary = []\n",
    "content = []\n",
    "published_date = []\n",
    "retrieve_date = []"
   ]
  },
  {
   "cell_type": "code",
   "execution_count": 4,
   "id": "de0cb2c7-e44b-4ab2-8502-119995857b5d",
   "metadata": {},
   "outputs": [
    {
     "name": "stdout",
     "output_type": "stream",
     "text": [
      "['ห่วงปัญหาส่งออกทุเรียนยังไร้ทางแก้เป็นรูปธรรม', 'เกษตรฯ ยันทุเรียนส่งออกแดนปลาดิบไม่ใช่ทุเรียนอ่อน', 'ชาวสวนหวั่นทุเรียนล้นตลาด เสนอ ก.พาณิชย์ช่วยหาตลาดส่งออก ', 'ทุเรียนไทยขายดี เช่าเหมาลำส่งออกไปจีน', 'นายกสมาคมฯ ส่งออกเผยจีนยังไม่ห้ามนำเข้าทุเรียนไทย', '\"จิตวิทยาการตลาด\" กระทบออร์เดอร์ หลังจีนพบโควิดบนกล่องทุเรียนไทย', 'Insight : นายกฯ มาเลเซียเยือนจีนและสิ่งที่ไทยต้องเฝ้าจับตา', 'ทุเรียนจันทบุรีราคาพุ่ง ล้งกว๊านซื้อส่งออกจีน', '\"ทุเรียน\" ยังขายดีในตลาดจีน คาด 5 ปีราคาแตะ 400/กก.', '“แจ็ค หม่า” ทำราคาทุเรียนเหมาพุ่งกระฉูด – ชาวสวนหวั่นยอดสั่งมาก คุณภาพอาจด้อย']\n"
     ]
    }
   ],
   "source": [
    "for news in b.findAll('div', attrs={'class' : 'ContentCardstyle__Container-sc-odesfa-0 iqGpPt'}):\n",
    "    titles = news.find('p').get_text()\n",
    "    #print(title)\n",
    "    title.append(titles)\n",
    "print(title)"
   ]
  },
  {
   "cell_type": "code",
   "execution_count": 5,
   "id": "05c8c7a6-c1d0-46b1-a020-d3924214a57a",
   "metadata": {},
   "outputs": [],
   "source": [
    "url = []\n",
    "\n",
    "for news in b.findAll('div', attrs={'class' : 'ContentInformationLayoutAstyle__Container-sc-1ut12ee-0 chsKqA'}):\n",
    "    url.append(news.find('a', href=True)['href'])"
   ]
  },
  {
   "cell_type": "code",
   "execution_count": 6,
   "id": "023004e2-260b-4547-8eb8-2fcfd508ec24",
   "metadata": {},
   "outputs": [],
   "source": [
    "for link in url:\n",
    "    page = requests.get(link)\n",
    "    bsobj = soup(page.content, 'html.parser')\n",
    "    for news in bsobj.findAll('h4'):\n",
    "        s = news.text.strip()\n",
    "        #print(news.text.strip())\n",
    "        summary.append(s)\n",
    "    \n",
    "    for news in bsobj.findAll('div', attrs={'class':'Contentstyle__NewsContentContainer-sc-16duq30-0 hUUwiH'}):\n",
    "        d = news.text\n",
    "        di = d.strip()\n",
    "        dis = di.replace('\\n', '')\n",
    "        disc = dis.replace('\\xa0',' ')\n",
    "        content.append(disc)\n",
    "\n",
    "    for n in  bsobj.findAll('div', attrs={'class' : 'NewsHeaderstyle__MetaContainer-sc-1l82i9z-4 hWmbNM'}):\n",
    "        te = n.find('span').get_text()\n",
    "        published_date.append(te)\n",
    "        \n",
    "        retrieve = str(datetime.date.today())\n",
    "        retrieve_date.append(retrieve)\n",
    "        # retrive_datetime.append(datetime.date.today())\n",
    "\n",
    "# print(retrive_datetime)\n",
    "# print(summary)\n",
    "# print(content)\n",
    "# print(published_datetime)"
   ]
  },
  {
   "cell_type": "code",
   "execution_count": 7,
   "id": "648cdd49-3356-4e6c-9976-03e555f58bc5",
   "metadata": {
    "tags": []
   },
   "outputs": [
    {
     "data": {
      "text/html": [
       "<div>\n",
       "<style scoped>\n",
       "    .dataframe tbody tr th:only-of-type {\n",
       "        vertical-align: middle;\n",
       "    }\n",
       "\n",
       "    .dataframe tbody tr th {\n",
       "        vertical-align: top;\n",
       "    }\n",
       "\n",
       "    .dataframe thead th {\n",
       "        text-align: right;\n",
       "    }\n",
       "</style>\n",
       "<table border=\"1\" class=\"dataframe\">\n",
       "  <thead>\n",
       "    <tr style=\"text-align: right;\">\n",
       "      <th></th>\n",
       "      <th>title</th>\n",
       "      <th>published_date</th>\n",
       "      <th>content</th>\n",
       "      <th>summary</th>\n",
       "      <th>url</th>\n",
       "      <th>retrieve_date</th>\n",
       "    </tr>\n",
       "  </thead>\n",
       "  <tbody>\n",
       "    <tr>\n",
       "      <th>0</th>\n",
       "      <td>ห่วงปัญหาส่งออกทุเรียนยังไร้ทางแก้เป็นรูปธรรม</td>\n",
       "      <td>16 มี.ค. 65</td>\n",
       "      <td>เมื่อวันที่ 15 มี.ค.2565 ชาวสวนทุเรียนใน อ.นาย...</td>\n",
       "      <td>การส่งออกทุเรียนปีนี้ถือเป็นความท้าทายอย่างยิ่...</td>\n",
       "      <td>https://www.thaipbs.or.th/news/content/313668</td>\n",
       "      <td>2022-11-02</td>\n",
       "    </tr>\n",
       "    <tr>\n",
       "      <th>1</th>\n",
       "      <td>เกษตรฯ ยันทุเรียนส่งออกแดนปลาดิบไม่ใช่ทุเรียนอ่อน</td>\n",
       "      <td>17 พ.ค. 60</td>\n",
       "      <td>วันนี้ (17 พ.ค.2560) นายสุวิทย์ ชัยเกียรติยศ อ...</td>\n",
       "      <td>กรมวิชาการเกษตร แจ้งบริษัทส่งออกทุเรียนแจงเหตุ...</td>\n",
       "      <td>https://www.thaipbs.or.th/news/content/262557</td>\n",
       "      <td>2022-11-02</td>\n",
       "    </tr>\n",
       "    <tr>\n",
       "      <th>2</th>\n",
       "      <td>ชาวสวนหวั่นทุเรียนล้นตลาด เสนอ ก.พาณิชย์ช่วยหา...</td>\n",
       "      <td>13 พ.ค. 62</td>\n",
       "      <td>ผลผลิตทุเรียนในประเทศปีนี้อยู่ที่ประมาณ 860,00...</td>\n",
       "      <td>ผลผลิตทุเรียนเพิ่มขึ้นร้อยละ 20 คาดอีก 2-3 ปีอ...</td>\n",
       "      <td>https://www.thaipbs.or.th/news/content/279977</td>\n",
       "      <td>2022-11-02</td>\n",
       "    </tr>\n",
       "    <tr>\n",
       "      <th>3</th>\n",
       "      <td>ทุเรียนไทยขายดี เช่าเหมาลำส่งออกไปจีน</td>\n",
       "      <td>27 เม.ย. 64</td>\n",
       "      <td>เมื่อวันที่ 26 เม.ย.2564 ชาวสวนสมาชิกสหกรณ์เมื...</td>\n",
       "      <td>ทุเรียนขายดีสวนกระเเสเศรษฐกิจ โดยบริษัทเอกชนแล...</td>\n",
       "      <td>https://www.thaipbs.or.th/news/content/303731</td>\n",
       "      <td>2022-11-02</td>\n",
       "    </tr>\n",
       "    <tr>\n",
       "      <th>4</th>\n",
       "      <td>นายกสมาคมฯ ส่งออกเผยจีนยังไม่ห้ามนำเข้าทุเรียนไทย</td>\n",
       "      <td>17 ส.ค. 64</td>\n",
       "      <td>วันนี้ (17 ส.ค.2564) นายภาณุวัชร์ ไหมแก้ว นายก...</td>\n",
       "      <td>หลังทางการจีนพบการติดเชื้อโควิดบนกล่องทุเรียนท...</td>\n",
       "      <td>https://www.thaipbs.or.th/news/content/307035</td>\n",
       "      <td>2022-11-02</td>\n",
       "    </tr>\n",
       "  </tbody>\n",
       "</table>\n",
       "</div>"
      ],
      "text/plain": [
       "                                               title published_date  \\\n",
       "0      ห่วงปัญหาส่งออกทุเรียนยังไร้ทางแก้เป็นรูปธรรม    16 มี.ค. 65   \n",
       "1  เกษตรฯ ยันทุเรียนส่งออกแดนปลาดิบไม่ใช่ทุเรียนอ่อน     17 พ.ค. 60   \n",
       "2  ชาวสวนหวั่นทุเรียนล้นตลาด เสนอ ก.พาณิชย์ช่วยหา...     13 พ.ค. 62   \n",
       "3              ทุเรียนไทยขายดี เช่าเหมาลำส่งออกไปจีน    27 เม.ย. 64   \n",
       "4  นายกสมาคมฯ ส่งออกเผยจีนยังไม่ห้ามนำเข้าทุเรียนไทย     17 ส.ค. 64   \n",
       "\n",
       "                                             content  \\\n",
       "0  เมื่อวันที่ 15 มี.ค.2565 ชาวสวนทุเรียนใน อ.นาย...   \n",
       "1  วันนี้ (17 พ.ค.2560) นายสุวิทย์ ชัยเกียรติยศ อ...   \n",
       "2  ผลผลิตทุเรียนในประเทศปีนี้อยู่ที่ประมาณ 860,00...   \n",
       "3  เมื่อวันที่ 26 เม.ย.2564 ชาวสวนสมาชิกสหกรณ์เมื...   \n",
       "4  วันนี้ (17 ส.ค.2564) นายภาณุวัชร์ ไหมแก้ว นายก...   \n",
       "\n",
       "                                             summary  \\\n",
       "0  การส่งออกทุเรียนปีนี้ถือเป็นความท้าทายอย่างยิ่...   \n",
       "1  กรมวิชาการเกษตร แจ้งบริษัทส่งออกทุเรียนแจงเหตุ...   \n",
       "2  ผลผลิตทุเรียนเพิ่มขึ้นร้อยละ 20 คาดอีก 2-3 ปีอ...   \n",
       "3  ทุเรียนขายดีสวนกระเเสเศรษฐกิจ โดยบริษัทเอกชนแล...   \n",
       "4  หลังทางการจีนพบการติดเชื้อโควิดบนกล่องทุเรียนท...   \n",
       "\n",
       "                                             url retrieve_date  \n",
       "0  https://www.thaipbs.or.th/news/content/313668    2022-11-02  \n",
       "1  https://www.thaipbs.or.th/news/content/262557    2022-11-02  \n",
       "2  https://www.thaipbs.or.th/news/content/279977    2022-11-02  \n",
       "3  https://www.thaipbs.or.th/news/content/303731    2022-11-02  \n",
       "4  https://www.thaipbs.or.th/news/content/307035    2022-11-02  "
      ]
     },
     "execution_count": 7,
     "metadata": {},
     "output_type": "execute_result"
    }
   ],
   "source": [
    "table = pd.DataFrame([title,published_date,content,summary,url,retrieve_date]).transpose()\n",
    "table.columns = ['title','published_date','content','summary','url','retrieve_date']\n",
    "table.head()"
   ]
  },
  {
   "cell_type": "code",
   "execution_count": 8,
   "id": "1f19deb4-334c-4b0c-97d8-6202ecb6f968",
   "metadata": {},
   "outputs": [],
   "source": [
    "table_csv = table.to_csv('exporting_durians_thai_pbs.csv', index=False)"
   ]
  },
  {
   "cell_type": "code",
   "execution_count": 9,
   "id": "e22e9f06-790b-4868-ac00-9f399c2f6bda",
   "metadata": {},
   "outputs": [],
   "source": [
    "table_1 = table.to_dict('records')"
   ]
  },
  {
   "cell_type": "code",
   "execution_count": 10,
   "id": "ff094719-ab90-4523-9d3b-1f7a97861da8",
   "metadata": {},
   "outputs": [
    {
     "name": "stdout",
     "output_type": "stream",
     "text": [
      "Total news : 10\n"
     ]
    }
   ],
   "source": [
    "print(f\"Total news : {len(table_1)}\")"
   ]
  },
  {
   "cell_type": "code",
   "execution_count": 11,
   "id": "9e05705a-130d-4129-8d2b-77bd3c452f7f",
   "metadata": {},
   "outputs": [],
   "source": [
    "with open('exporting_durians_thai_pbs.json', 'w') as f:\n",
    "    json.dump(table_1, f)"
   ]
  },
  {
   "cell_type": "markdown",
   "id": "71cd7cf3-ab9c-4d6b-b175-6d019c60a5ef",
   "metadata": {},
   "source": [
    "## Upload data to DataPlatform"
   ]
  },
  {
   "cell_type": "code",
   "execution_count": 12,
   "id": "7d7ef104-01c4-4989-9437-839b2b362826",
   "metadata": {},
   "outputs": [],
   "source": [
    "from dsmlibrary.datanode import DataNode"
   ]
  },
  {
   "cell_type": "code",
   "execution_count": 13,
   "id": "947f4056-e73d-400d-aba4-507978e6bdd3",
   "metadata": {},
   "outputs": [],
   "source": [
    "dir_raw_id = 60"
   ]
  },
  {
   "cell_type": "code",
   "execution_count": 14,
   "id": "7549ee88-d50a-4846-ae0f-04fe8d63820e",
   "metadata": {},
   "outputs": [
    {
     "name": "stdout",
     "output_type": "stream",
     "text": [
      "Init DataNode sucessful!\n"
     ]
    }
   ],
   "source": [
    "datanode = DataNode()"
   ]
  },
  {
   "cell_type": "code",
   "execution_count": 15,
   "id": "4a33749c-4f4e-4b95-afc2-b4abe450bd5a",
   "metadata": {},
   "outputs": [
    {
     "name": "stdin",
     "output_type": "stream",
     "text": [
      "File exporting_durians_thai_pbs.json alrady exists, do you want to replace y/n :  y\n"
     ]
    },
    {
     "data": {
      "application/vnd.jupyter.widget-view+json": {
       "model_id": "4baa9f14428c4bec9f924e3886364316",
       "version_major": 2,
       "version_minor": 0
      },
      "text/plain": [
       "  0%|          | 0.00/145k [00:00<?, ?B/s]"
      ]
     },
     "metadata": {},
     "output_type": "display_data"
    },
    {
     "data": {
      "text/plain": [
       "{'id': 414,\n",
       " 'msg': 'file exporting_durians_thai_pbs.json create sucessful',\n",
       " 'path': 'supitchaya/DSI310-04/rawData/exporting_durians_thai_pbs.json',\n",
       " 'uploaded': True}"
      ]
     },
     "execution_count": 15,
     "metadata": {},
     "output_type": "execute_result"
    }
   ],
   "source": [
    "datanode.upload_file(directory_id=dir_raw_id, file_path='exporting_durians_thai_pbs.json')"
   ]
  },
  {
   "cell_type": "code",
   "execution_count": 16,
   "id": "02737a71-f7e8-4c03-8357-ff2ca134e064",
   "metadata": {},
   "outputs": [
    {
     "name": "stdin",
     "output_type": "stream",
     "text": [
      "File exporting_durians_thai_pbs.csv alrady exists, do you want to replace y/n :  y\n"
     ]
    },
    {
     "data": {
      "application/vnd.jupyter.widget-view+json": {
       "model_id": "e4aaba002ee043e8aa35f18f7bb166bf",
       "version_major": 2,
       "version_minor": 0
      },
      "text/plain": [
       "  0%|          | 0.00/73.9k [00:00<?, ?B/s]"
      ]
     },
     "metadata": {},
     "output_type": "display_data"
    },
    {
     "data": {
      "text/plain": [
       "{'id': 415,\n",
       " 'msg': 'file exporting_durians_thai_pbs.csv create sucessful',\n",
       " 'path': 'supitchaya/DSI310-04/rawData/exporting_durians_thai_pbs.csv',\n",
       " 'uploaded': True}"
      ]
     },
     "execution_count": 16,
     "metadata": {},
     "output_type": "execute_result"
    }
   ],
   "source": [
    "datanode.upload_file(directory_id=dir_raw_id, file_path='exporting_durians_thai_pbs.csv')"
   ]
  },
  {
   "cell_type": "code",
   "execution_count": null,
   "id": "e665a5fd-2385-4f77-b597-d9aab87ffa02",
   "metadata": {},
   "outputs": [],
   "source": []
  }
 ],
 "metadata": {
  "kernelspec": {
   "display_name": "Python 3 (ipykernel)",
   "language": "python",
   "name": "python3"
  },
  "language_info": {
   "codemirror_mode": {
    "name": "ipython",
    "version": 3
   },
   "file_extension": ".py",
   "mimetype": "text/x-python",
   "name": "python",
   "nbconvert_exporter": "python",
   "pygments_lexer": "ipython3",
   "version": "3.10.5"
  }
 },
 "nbformat": 4,
 "nbformat_minor": 5
}

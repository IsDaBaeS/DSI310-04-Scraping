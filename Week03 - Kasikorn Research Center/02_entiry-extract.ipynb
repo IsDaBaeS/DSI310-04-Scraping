{
 "cells": [
  {
   "cell_type": "markdown",
   "id": "512d7ea4-5008-412e-8ef2-68dc225fb267",
   "metadata": {},
   "source": [
    "# 02_entiry-extract"
   ]
  },
  {
   "cell_type": "markdown",
   "id": "2af8db3a-2d6f-4653-bcdc-1c0aa7f6f1ce",
   "metadata": {},
   "source": [
    "## read stored data from DataPlatform"
   ]
  },
  {
   "cell_type": "code",
   "execution_count": null,
   "id": "98e16618-7254-4c9a-b843-56009e688d3c",
   "metadata": {},
   "outputs": [],
   "source": [
    "from dsmlibrary.datanode import DataNode\n",
    "import json\n",
    "from tqdm.auto import tqdm\n",
    "import pandas as pd"
   ]
  },
  {
   "cell_type": "code",
   "execution_count": null,
   "id": "bfa53b71-e625-495a-af11-0973bc3a2e29",
   "metadata": {},
   "outputs": [],
   "source": [
    "dir_raw_id = 60\n",
    "dir_process_id = 61"
   ]
  },
  {
   "cell_type": "code",
   "execution_count": null,
   "id": "0e852b7d-4164-4c91-8c6e-9fe79a25d3fc",
   "metadata": {},
   "outputs": [],
   "source": [
    "datanode = DataNode()"
   ]
  },
  {
   "cell_type": "code",
   "execution_count": null,
   "id": "b5687abc-e2f9-4045-a030-0429525f22e6",
   "metadata": {},
   "outputs": [],
   "source": [
    "meta, fp = datanode.get_file(datanode.get_file_id(directory_id=dir_raw_id, name='analysis_durians_kasikorn.json'))\n",
    "meta"
   ]
  },
  {
   "cell_type": "code",
   "execution_count": null,
   "id": "8f1a8dcf-d72d-4ee6-bdbb-735367bc5e80",
   "metadata": {},
   "outputs": [],
   "source": [
    "data = json.load(fp)\n",
    "data"
   ]
  },
  {
   "cell_type": "code",
   "execution_count": null,
   "id": "e3ffa44f-64f5-4c50-b6e5-1ba6d9a6d465",
   "metadata": {},
   "outputs": [],
   "source": [
    "df = pd.json_normalize(data)\n",
    "df"
   ]
  },
  {
   "cell_type": "code",
   "execution_count": null,
   "id": "74d00da4-9936-48b6-a773-623fe0cf7804",
   "metadata": {},
   "outputs": [],
   "source": [
    "df = df.drop([0])\n",
    "df"
   ]
  },
  {
   "cell_type": "code",
   "execution_count": null,
   "id": "5cf960d5-27d9-4abe-b3eb-93c8426e31e3",
   "metadata": {},
   "outputs": [],
   "source": [
    "df[['date', 'month', 'year']] = df['publish_date'].str.split(' ', expand = True)\n",
    "df = df.drop(columns=['publish_date'])\n",
    "df"
   ]
  },
  {
   "cell_type": "code",
   "execution_count": null,
   "id": "e78e4967-63fb-4476-8c4d-98b86c49ad54",
   "metadata": {},
   "outputs": [],
   "source": [
    "df['month'] = df['month'].replace(['พฤษภาคม', 'กรกฎาคม'], ['05', '07'])\n",
    "df['year'] = df['year'].astype(int) - 543\n",
    "df['date'] = df['date'].astype(int).map(\"{:02}\".format)\n",
    "df"
   ]
  },
  {
   "cell_type": "code",
   "execution_count": null,
   "id": "8a833698-7976-4530-83a5-de10b2878d56",
   "metadata": {},
   "outputs": [],
   "source": [
    "df.columns"
   ]
  },
  {
   "cell_type": "code",
   "execution_count": null,
   "id": "5fa6544f-bbdb-4133-8846-32be7be33f0c",
   "metadata": {},
   "outputs": [],
   "source": [
    "df.info()"
   ]
  },
  {
   "cell_type": "code",
   "execution_count": null,
   "id": "2a27a8bd-3558-41aa-bb68-a9cd1aeb4e27",
   "metadata": {},
   "outputs": [],
   "source": [
    "df['year'] = df['year'].astype(str)"
   ]
  },
  {
   "cell_type": "code",
   "execution_count": null,
   "id": "58299264-b044-416d-9c5e-6ba9289a23bf",
   "metadata": {},
   "outputs": [],
   "source": [
    "df['publish_date'] = df['year'] + '-' + df['month'] + '-' + df['date']\n",
    "df = df.drop(['date', 'month', 'year'], axis=1)\n",
    "df"
   ]
  },
  {
   "cell_type": "code",
   "execution_count": null,
   "id": "dbd137e0-3f33-464d-808c-fc939d06a9de",
   "metadata": {},
   "outputs": [],
   "source": [
    "df[['publish_date', 'retrieve_date']] = df[['publish_date', 'retrieve_date']].astype('datetime64')\n",
    "df.info()"
   ]
  },
  {
   "cell_type": "code",
   "execution_count": null,
   "id": "8171cdfa-7922-4387-8094-a190a173b6f8",
   "metadata": {},
   "outputs": [],
   "source": [
    "df.columns"
   ]
  },
  {
   "cell_type": "code",
   "execution_count": null,
   "id": "50c65988-bb47-485a-8093-cb9ac26eb13a",
   "metadata": {},
   "outputs": [],
   "source": [
    "df = df[['title', 'content', 'source_url', 'publish_date', 'retrieve_date']]\n",
    "df"
   ]
  },
  {
   "cell_type": "code",
   "execution_count": null,
   "id": "3bb944fb-8984-4f4d-a46b-c5eafa43fd7f",
   "metadata": {},
   "outputs": [],
   "source": [
    "df1 = df.copy()"
   ]
  },
  {
   "cell_type": "markdown",
   "id": "6ba9cbd0-4eed-4f89-b2b8-e8282def4eba",
   "metadata": {},
   "source": [
    "## write DataNode to DataPlatform"
   ]
  },
  {
   "cell_type": "code",
   "execution_count": null,
   "id": "270f82a3-0f3e-43be-b720-a978ade57214",
   "metadata": {},
   "outputs": [],
   "source": [
    "datanode.write(df=df1, \n",
    "               directory=dir_process_id, \n",
    "               name=\"The analysis durians from Kasikorn Research Center\", \n",
    "               profiling=True, \n",
    "               lineage=[datanode.get_file_id(directory_id=dir_raw_id, name='analysis_durians_kasikorn.json')])"
   ]
  },
  {
   "cell_type": "code",
   "execution_count": null,
   "id": "1a799945-4215-4de7-ac0f-132482f9c210",
   "metadata": {},
   "outputs": [],
   "source": []
  }
 ],
 "metadata": {
  "kernelspec": {
   "display_name": "Python 3 (ipykernel)",
   "language": "python",
   "name": "python3"
  },
  "language_info": {
   "codemirror_mode": {
    "name": "ipython",
    "version": 3
   },
   "file_extension": ".py",
   "mimetype": "text/x-python",
   "name": "python",
   "nbconvert_exporter": "python",
   "pygments_lexer": "ipython3",
   "version": "3.10.5"
  }
 },
 "nbformat": 4,
 "nbformat_minor": 5
}

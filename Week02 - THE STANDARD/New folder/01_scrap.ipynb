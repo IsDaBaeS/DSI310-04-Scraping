{
 "cells": [
  {
   "cell_type": "markdown",
   "id": "658848e1-a6aa-4235-bd40-040855816f3e",
   "metadata": {},
   "source": [
    "# 01_scrap"
   ]
  },
  {
   "cell_type": "markdown",
   "id": "ada6e57f-ddb2-414f-bfce-f987f350bae9",
   "metadata": {},
   "source": [
    "## Getting data from THE STANDARD"
   ]
  },
  {
   "cell_type": "code",
   "execution_count": null,
   "id": "17f9a8af-72ad-4c71-b71e-a87dad910765",
   "metadata": {},
   "outputs": [],
   "source": [
    "from bs4 import BeautifulSoup as soup\n",
    "import requests\n",
    "from datetime import datetime\n",
    "import pandas as pd\n",
    "import json"
   ]
  },
  {
   "cell_type": "code",
   "execution_count": null,
   "id": "9ef8938d-3a1e-4411-a45a-e8da7640dec0",
   "metadata": {},
   "outputs": [],
   "source": [
    "r = requests.get('https://thestandard.co/?s=ส่งออกทุเรียน&search=')\n",
    "b = soup(r.content,'html.parser')"
   ]
  },
  {
   "cell_type": "code",
   "execution_count": null,
   "id": "a489d4db-cbd5-42e9-bb1c-52b64995030f",
   "metadata": {},
   "outputs": [],
   "source": [
    "title = []\n",
    "urls = []\n",
    "content = []\n",
    "published_date = []\n",
    "retrieved_date  = []"
   ]
  },
  {
   "cell_type": "code",
   "execution_count": null,
   "id": "e6547fe5-5434-4642-aa9c-024e45b82c1a",
   "metadata": {},
   "outputs": [],
   "source": [
    "for news in b.findAll('div', attrs={'class' : 'col-md-8'}):\n",
    "    titles = news.find('h3').get_text()\n",
    "    titles = titles.replace('\\n','')\n",
    "    urls.append(news.find('a', href=True)['href'])\n",
    "    #print(titles)\n",
    "    title.append(titles)\n",
    "\n",
    "#print(title)\n",
    "#print(urls)"
   ]
  },
  {
   "cell_type": "code",
   "execution_count": null,
   "id": "c0cd7789-9391-412b-99cb-a94140c35587",
   "metadata": {},
   "outputs": [],
   "source": [
    "for link in urls:\n",
    "    page = requests.get(link)\n",
    "    bsobj = soup(page.content,'html.parser')\n",
    "    for n in bsobj.findAll('div', attrs={'class' : 'entry-content'}):\n",
    "        dis = n.text\n",
    "        dis = dis.replace('\\n','')\n",
    "        dis = dis.replace('\\xa0','')\n",
    "        content.append(dis)\n",
    "\n",
    "    for date in bsobj.findAll('div', attrs={'class' : 'meta-date'}):\n",
    "        date_p = date.find('span').get_text()\n",
    "        date_p = datetime.strptime(date_p, '%d.%m.%Y').strftime(\"%Y-%m-%d\")\n",
    "        published_date.append(date_p)\n",
    "        \n",
    "    r = (datetime.now()).strftime(\"%Y-%m-%d\")\n",
    "    retrieved_date.append(r)\n",
    "    \n",
    "#print(content) \n",
    "#print(published_datetime)\n",
    "#print(retrieved_datetime)"
   ]
  },
  {
   "cell_type": "code",
   "execution_count": null,
   "id": "0e39c82e-5717-46d1-9eb3-e7b08ecb4b57",
   "metadata": {},
   "outputs": [],
   "source": [
    "table = pd.DataFrame([title, published_date, retrieved_date, content, urls]).transpose()\n",
    "table.columns = ['title','publish_date','retrieve_date','content','source_url']\n",
    "table.head()"
   ]
  },
  {
   "cell_type": "code",
   "execution_count": null,
   "id": "ac2702a8-ebea-4909-ac9c-c4781db3d0ac",
   "metadata": {},
   "outputs": [],
   "source": [
    "table = table.to_dict('records')"
   ]
  },
  {
   "cell_type": "code",
   "execution_count": null,
   "id": "2a547d25-c700-4d1b-86d7-7d3cdaec4087",
   "metadata": {},
   "outputs": [],
   "source": [
    "with open('exporting_durians_the_standard.json','w', encoding='utf8') as json_file:\n",
    "    json.dump(table, json_file)"
   ]
  },
  {
   "cell_type": "markdown",
   "id": "5658b4a7-76b2-4dc9-99a9-32a8aef26e01",
   "metadata": {},
   "source": [
    "## Upload data to DataPlatform"
   ]
  },
  {
   "cell_type": "code",
   "execution_count": null,
   "id": "54df6284-89dc-4803-a0a5-4479bb2002f9",
   "metadata": {},
   "outputs": [],
   "source": [
    "from dsmlibrary.datanode import DataNode"
   ]
  },
  {
   "cell_type": "code",
   "execution_count": null,
   "id": "3828c5a2-c67e-4999-9db2-aaa0528aeb44",
   "metadata": {},
   "outputs": [],
   "source": [
    "dir_raw_id = 60"
   ]
  },
  {
   "cell_type": "code",
   "execution_count": null,
   "id": "f3876dcf-503d-4128-a7df-36a2df7bd231",
   "metadata": {},
   "outputs": [],
   "source": [
    "datanode = DataNode()"
   ]
  },
  {
   "cell_type": "code",
   "execution_count": null,
   "id": "871ad597-3aa7-466b-8121-f191ac440a33",
   "metadata": {},
   "outputs": [],
   "source": [
    "datanode.upload_file(directory_id=dir_raw_id, file_path='exporting_durians_the_standard.json')"
   ]
  },
  {
   "cell_type": "code",
   "execution_count": null,
   "id": "d8db2a9a-6b06-4390-ab9c-7cb943b21fc4",
   "metadata": {},
   "outputs": [],
   "source": []
  }
 ],
 "metadata": {
  "kernelspec": {
   "display_name": "Python 3 (ipykernel)",
   "language": "python",
   "name": "python3"
  },
  "language_info": {
   "codemirror_mode": {
    "name": "ipython",
    "version": 3
   },
   "file_extension": ".py",
   "mimetype": "text/x-python",
   "name": "python",
   "nbconvert_exporter": "python",
   "pygments_lexer": "ipython3",
   "version": "3.10.5"
  }
 },
 "nbformat": 4,
 "nbformat_minor": 5
}

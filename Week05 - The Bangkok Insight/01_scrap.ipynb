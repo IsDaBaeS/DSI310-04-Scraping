{
 "cells": [
  {
   "cell_type": "markdown",
   "id": "d224e881-92c7-4711-91a4-6385d4db6be4",
   "metadata": {},
   "source": [
    "# 01_scrap"
   ]
  },
  {
   "cell_type": "markdown",
   "id": "00a1529f-a1c1-4ba6-a1e3-d9be47643f88",
   "metadata": {},
   "source": [
    "## Getting data from The Bangkok Insight"
   ]
  },
  {
   "cell_type": "code",
   "execution_count": 1,
   "id": "a5ad3a41",
   "metadata": {},
   "outputs": [],
   "source": [
    "from bs4 import BeautifulSoup\n",
    "import requests\n",
    "import datetime\n",
    "import pandas as pd\n",
    "import json"
   ]
  },
  {
   "cell_type": "code",
   "execution_count": 2,
   "id": "e60da6a4",
   "metadata": {},
   "outputs": [],
   "source": [
    "link = 'https://www.thebangkokinsight.com/page/'\n",
    "page = 1"
   ]
  },
  {
   "cell_type": "code",
   "execution_count": 3,
   "id": "e9a5c6ee",
   "metadata": {},
   "outputs": [
    {
     "data": {
      "text/plain": [
       "<Response [200]>"
      ]
     },
     "execution_count": 3,
     "metadata": {},
     "output_type": "execute_result"
    }
   ],
   "source": [
    "bs = []\n",
    "while page <= 3:\n",
    "    r = requests.get(link + str(page) + '/?s=ส่งออกทุเรียน')\n",
    "    s = BeautifulSoup(r.content, 'html.parser')\n",
    "    bs.append(s)\n",
    "    page += 1\n",
    "r"
   ]
  },
  {
   "cell_type": "code",
   "execution_count": 4,
   "id": "71584693",
   "metadata": {},
   "outputs": [],
   "source": [
    "title = []\n",
    "content = []\n",
    "source_url = []\n",
    "publish_date = []\n",
    "retrieve_date = []"
   ]
  },
  {
   "cell_type": "code",
   "execution_count": 5,
   "id": "93f3d91b",
   "metadata": {},
   "outputs": [],
   "source": [
    "for i in range(len(bs)):\n",
    "    for j in bs[i].find_all('h3', {'class':'post__title typescale-2'}):\n",
    "        topic = j.find('a').text.strip()\n",
    "        title.append(topic)\n",
    "        source_url.append(j.find('a')['href'])\n",
    "        \n",
    "    for t in bs[i].find_all('div', {'class':'post__meta'}):\n",
    "        publish_date.append(t.find('time')['datetime'].split('G')[0])\n",
    "        retrieve_date.append(str(datetime.date.today()))"
   ]
  },
  {
   "cell_type": "code",
   "execution_count": 6,
   "id": "7e1f362f",
   "metadata": {},
   "outputs": [],
   "source": [
    "for url in source_url:\n",
    "    re = requests.get(url)\n",
    "    soup = BeautifulSoup(re.content, 'html.parser')\n",
    "    \n",
    "    for c in soup.find_all('div', {'class':'single-body entry-content typography-copy'}):\n",
    "        con = c.text.strip()\n",
    "        con = con.split('อ่านข่าวเพิ่มเติม')[0]\n",
    "        con = con.replace('\\xa0', ' ')\n",
    "        content.append(con)"
   ]
  },
  {
   "cell_type": "code",
   "execution_count": 8,
   "id": "295170bf",
   "metadata": {},
   "outputs": [
    {
     "data": {
      "text/html": [
       "<div>\n",
       "<style scoped>\n",
       "    .dataframe tbody tr th:only-of-type {\n",
       "        vertical-align: middle;\n",
       "    }\n",
       "\n",
       "    .dataframe tbody tr th {\n",
       "        vertical-align: top;\n",
       "    }\n",
       "\n",
       "    .dataframe thead th {\n",
       "        text-align: right;\n",
       "    }\n",
       "</style>\n",
       "<table border=\"1\" class=\"dataframe\">\n",
       "  <thead>\n",
       "    <tr style=\"text-align: right;\">\n",
       "      <th></th>\n",
       "      <th>title</th>\n",
       "      <th>content</th>\n",
       "      <th>source_url</th>\n",
       "      <th>publish_date</th>\n",
       "      <th>retrieve_date</th>\n",
       "    </tr>\n",
       "  </thead>\n",
       "  <tbody>\n",
       "    <tr>\n",
       "      <th>0</th>\n",
       "      <td>ข่าวดีชาวสวน จีนเปิดครบทุกด่านแล้ว ส่งออกทุเรี...</td>\n",
       "      <td>“อลงกรณ์” เผยข่าวดี จีนเปิดทุกด่านครบแล้ววันนี...</td>\n",
       "      <td>https://www.thebangkokinsight.com/news/busines...</td>\n",
       "      <td>2022-04-29</td>\n",
       "      <td>2022-11-15</td>\n",
       "    </tr>\n",
       "    <tr>\n",
       "      <th>1</th>\n",
       "      <td>ไทยส่งออกทุเรียนทุบสถิติครั้งใหม่ มูลค่าแซงหน้...</td>\n",
       "      <td>ไทยเป็นผู้ส่งออกทุเรียนสดอันดับ 1 ของโลก ล่าสุ...</td>\n",
       "      <td>https://www.thebangkokinsight.com/news/busines...</td>\n",
       "      <td>2021-06-25</td>\n",
       "      <td>2022-11-15</td>\n",
       "    </tr>\n",
       "    <tr>\n",
       "      <th>2</th>\n",
       "      <td>เร่งขึ้นทะเบียน ‘GAP’ ยกระดับ ‘สวนทุเรียน’ ผนึ...</td>\n",
       "      <td>เร่งขึ้นทะเบียน ‘GAP’ ยกระดับ ‘สวนทุเรียน’ ผนึ...</td>\n",
       "      <td>https://www.thebangkokinsight.com/news/busines...</td>\n",
       "      <td>2022-11-13</td>\n",
       "      <td>2022-11-15</td>\n",
       "    </tr>\n",
       "    <tr>\n",
       "      <th>3</th>\n",
       "      <td>ใช้ ‘GAP Monkey Free Plus’ แก้ปัญหา ‘ถูกกีดกัน...</td>\n",
       "      <td>กรมวิชาการเกษตร ใช้ ‘GAP Monkey Free Plus’ แก้...</td>\n",
       "      <td>https://www.thebangkokinsight.com/news/busines...</td>\n",
       "      <td>2022-08-18</td>\n",
       "      <td>2022-11-15</td>\n",
       "    </tr>\n",
       "    <tr>\n",
       "      <th>4</th>\n",
       "      <td>นายกฯ แฮปปี้ ส่งออก ‘ทุเรียนไทย’ ไปจีน ทะลุเป้...</td>\n",
       "      <td>นายกฯ แฮปปี้ ส่งออก ‘ทุเรียนไทย’ ไปจีน ทะลุเป้...</td>\n",
       "      <td>https://www.thebangkokinsight.com/news/busines...</td>\n",
       "      <td>2022-06-24</td>\n",
       "      <td>2022-11-15</td>\n",
       "    </tr>\n",
       "  </tbody>\n",
       "</table>\n",
       "</div>"
      ],
      "text/plain": [
       "                                               title  \\\n",
       "0  ข่าวดีชาวสวน จีนเปิดครบทุกด่านแล้ว ส่งออกทุเรี...   \n",
       "1  ไทยส่งออกทุเรียนทุบสถิติครั้งใหม่ มูลค่าแซงหน้...   \n",
       "2  เร่งขึ้นทะเบียน ‘GAP’ ยกระดับ ‘สวนทุเรียน’ ผนึ...   \n",
       "3  ใช้ ‘GAP Monkey Free Plus’ แก้ปัญหา ‘ถูกกีดกัน...   \n",
       "4  นายกฯ แฮปปี้ ส่งออก ‘ทุเรียนไทย’ ไปจีน ทะลุเป้...   \n",
       "\n",
       "                                             content  \\\n",
       "0  “อลงกรณ์” เผยข่าวดี จีนเปิดทุกด่านครบแล้ววันนี...   \n",
       "1  ไทยเป็นผู้ส่งออกทุเรียนสดอันดับ 1 ของโลก ล่าสุ...   \n",
       "2  เร่งขึ้นทะเบียน ‘GAP’ ยกระดับ ‘สวนทุเรียน’ ผนึ...   \n",
       "3  กรมวิชาการเกษตร ใช้ ‘GAP Monkey Free Plus’ แก้...   \n",
       "4  นายกฯ แฮปปี้ ส่งออก ‘ทุเรียนไทย’ ไปจีน ทะลุเป้...   \n",
       "\n",
       "                                          source_url publish_date  \\\n",
       "0  https://www.thebangkokinsight.com/news/busines...   2022-04-29   \n",
       "1  https://www.thebangkokinsight.com/news/busines...   2021-06-25   \n",
       "2  https://www.thebangkokinsight.com/news/busines...   2022-11-13   \n",
       "3  https://www.thebangkokinsight.com/news/busines...   2022-08-18   \n",
       "4  https://www.thebangkokinsight.com/news/busines...   2022-06-24   \n",
       "\n",
       "  retrieve_date  \n",
       "0    2022-11-15  \n",
       "1    2022-11-15  \n",
       "2    2022-11-15  \n",
       "3    2022-11-15  \n",
       "4    2022-11-15  "
      ]
     },
     "execution_count": 8,
     "metadata": {},
     "output_type": "execute_result"
    }
   ],
   "source": [
    "df = pd.DataFrame([title, content, source_url, publish_date, retrieve_date]).transpose()\n",
    "df.columns = ['title', 'content', 'source_url', 'publish_date', 'retrieve_date']\n",
    "df.head()"
   ]
  },
  {
   "cell_type": "code",
   "execution_count": 9,
   "id": "e43dbe24",
   "metadata": {},
   "outputs": [],
   "source": [
    "df_json = df.to_dict('records')"
   ]
  },
  {
   "cell_type": "code",
   "execution_count": 10,
   "id": "9bd3ddc1",
   "metadata": {},
   "outputs": [
    {
     "name": "stdout",
     "output_type": "stream",
     "text": [
      "Total news : 34\n"
     ]
    }
   ],
   "source": [
    "print(f'Total news : {len(df_json)}')"
   ]
  },
  {
   "cell_type": "code",
   "execution_count": 11,
   "id": "1fa86b3a-5e01-49dc-bc29-a4b7aff6d362",
   "metadata": {},
   "outputs": [],
   "source": [
    "with open('exporting_durians_the_bangkok_insight.json', 'w', encoding='utf8') as f:\n",
    "    json.dump(df_json, f)"
   ]
  },
  {
   "cell_type": "markdown",
   "id": "4e5758c9-5324-4390-ad8e-992f5eaed728",
   "metadata": {},
   "source": [
    "## Upload data to DataPlatform"
   ]
  },
  {
   "cell_type": "code",
   "execution_count": 12,
   "id": "b0309436-46b9-4b26-9284-1b6f9dceea93",
   "metadata": {},
   "outputs": [],
   "source": [
    "from dsmlibrary.datanode import DataNode"
   ]
  },
  {
   "cell_type": "code",
   "execution_count": 13,
   "id": "d94e2f52-381b-4773-8874-12f509cf39d8",
   "metadata": {},
   "outputs": [],
   "source": [
    "dir_raw_id = 60"
   ]
  },
  {
   "cell_type": "code",
   "execution_count": 14,
   "id": "0469d68a-9f09-4db5-8bf8-d11364a752d3",
   "metadata": {},
   "outputs": [
    {
     "name": "stdout",
     "output_type": "stream",
     "text": [
      "Init DataNode sucessful!\n"
     ]
    }
   ],
   "source": [
    "datanode = DataNode()"
   ]
  },
  {
   "cell_type": "code",
   "execution_count": null,
   "id": "04263f7a-8e56-4a43-99ed-76a3df9840c3",
   "metadata": {},
   "outputs": [],
   "source": [
    "datanode.upload_file(directory_id=dir_raw_id, file_path='exporting_durians_the_bangkok_insight.json')"
   ]
  }
 ],
 "metadata": {
  "kernelspec": {
   "display_name": "Python 3 (ipykernel)",
   "language": "python",
   "name": "python3"
  },
  "language_info": {
   "codemirror_mode": {
    "name": "ipython",
    "version": 3
   },
   "file_extension": ".py",
   "mimetype": "text/x-python",
   "name": "python",
   "nbconvert_exporter": "python",
   "pygments_lexer": "ipython3",
   "version": "3.10.5"
  }
 },
 "nbformat": 4,
 "nbformat_minor": 5
}

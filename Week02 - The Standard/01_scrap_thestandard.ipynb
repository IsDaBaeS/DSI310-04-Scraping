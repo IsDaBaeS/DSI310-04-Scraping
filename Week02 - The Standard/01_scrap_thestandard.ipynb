{
 "cells": [
  {
   "cell_type": "markdown",
   "id": "658848e1-a6aa-4235-bd40-040855816f3e",
   "metadata": {},
   "source": [
    "# 01_scrap"
   ]
  },
  {
   "cell_type": "markdown",
   "id": "ada6e57f-ddb2-414f-bfce-f987f350bae9",
   "metadata": {},
   "source": [
    "## Getting data from The Standard"
   ]
  },
  {
   "cell_type": "code",
   "execution_count": 1,
   "id": "17f9a8af-72ad-4c71-b71e-a87dad910765",
   "metadata": {},
   "outputs": [],
   "source": [
    "from bs4 import BeautifulSoup as soup\n",
    "import requests\n",
    "from datetime import datetime\n",
    "import pandas as pd\n",
    "import json"
   ]
  },
  {
   "cell_type": "code",
   "execution_count": 3,
   "id": "9ef8938d-3a1e-4411-a45a-e8da7640dec0",
   "metadata": {},
   "outputs": [],
   "source": [
    "# thaipbs_url = 'https://workpointtoday.com'\n",
    "r = requests.get('https://thestandard.co/?s=%E0%B8%AA%E0%B9%88%E0%B8%87%E0%B8%AD%E0%B8%AD%E0%B8%81%E0%B8%97%E0%B8%B8%E0%B9%80%E0%B8%A3%E0%B8%B5%E0%B8%A2%E0%B8%99&search=')\n",
    "b = soup(r.content,'html.parser')"
   ]
  },
  {
   "cell_type": "code",
   "execution_count": 4,
   "id": "a489d4db-cbd5-42e9-bb1c-52b64995030f",
   "metadata": {},
   "outputs": [],
   "source": [
    "title = []\n",
    "urls = []\n",
    "content = []\n",
    "published_datetime = []\n",
    "retrieved_datetime  = []"
   ]
  },
  {
   "cell_type": "code",
   "execution_count": 5,
   "id": "e6547fe5-5434-4642-aa9c-024e45b82c1a",
   "metadata": {},
   "outputs": [],
   "source": [
    "for news in b.findAll('div', attrs={'class' : 'col-md-8'}):\n",
    "    titles = news.find('h3').get_text()\n",
    "    titles = titles.replace('\\n','')\n",
    "    urls.append(news.find('a', href=True)['href'])\n",
    "    #print(titles)\n",
    "    title.append(titles)\n",
    "\n",
    "\n",
    "#print(title)\n",
    "#print(urls)"
   ]
  },
  {
   "cell_type": "code",
   "execution_count": 7,
   "id": "c0cd7789-9391-412b-99cb-a94140c35587",
   "metadata": {},
   "outputs": [],
   "source": [
    "for link in urls:\n",
    "    page = requests.get(link)\n",
    "    bsobj = soup(page.content,'html.parser')\n",
    "    for n in bsobj.findAll('div', attrs={'class' : 'entry-content'}):\n",
    "        dis = n.text\n",
    "        dis = dis.replace('\\n','')\n",
    "        dis = dis.replace('\\xa0','')\n",
    "        content.append(dis)\n",
    "\n",
    "    for date in bsobj.findAll('div', attrs={'class' : 'meta-date'}):\n",
    "        date_p = date.find('span').get_text()\n",
    "        date_p = datetime.strptime(date_p, '%d.%m.%Y').strftime(\"%Y-%m-%d\")\n",
    "        published_datetime.append(date_p)\n",
    "        \n",
    "    r = (datetime.now()).strftime(\"%Y-%m-%d\")\n",
    "    retrieved_datetime.append(r)\n",
    "    \n",
    "#print(content) \n",
    "#print(published_datetime)\n",
    "#print(retrieved_datetime)"
   ]
  },
  {
   "cell_type": "code",
   "execution_count": 10,
   "id": "0e39c82e-5717-46d1-9eb3-e7b08ecb4b57",
   "metadata": {},
   "outputs": [
    {
     "data": {
      "text/html": [
       "<div>\n",
       "<style scoped>\n",
       "    .dataframe tbody tr th:only-of-type {\n",
       "        vertical-align: middle;\n",
       "    }\n",
       "\n",
       "    .dataframe tbody tr th {\n",
       "        vertical-align: top;\n",
       "    }\n",
       "\n",
       "    .dataframe thead th {\n",
       "        text-align: right;\n",
       "    }\n",
       "</style>\n",
       "<table border=\"1\" class=\"dataframe\">\n",
       "  <thead>\n",
       "    <tr style=\"text-align: right;\">\n",
       "      <th></th>\n",
       "      <th>Title</th>\n",
       "      <th>Publish Date</th>\n",
       "      <th>Retrieve datetime</th>\n",
       "      <th>Content</th>\n",
       "      <th>Source_URL</th>\n",
       "    </tr>\n",
       "  </thead>\n",
       "  <tbody>\n",
       "    <tr>\n",
       "      <th>0</th>\n",
       "      <td>ไทยส่งออกทุเรียนไปจีน ไตรมาสแรกเพิ่มขึ้น 14%</td>\n",
       "      <td>2021-05-05</td>\n",
       "      <td>2022-11-01</td>\n",
       "      <td>เมื่อวานนี้ (4 พฤษภาคม) อรมน ทรัพย์ทวีธรรม อธิ...</td>\n",
       "      <td>https://thestandard.co/thailand-durian-exports...</td>\n",
       "    </tr>\n",
       "    <tr>\n",
       "      <th>1</th>\n",
       "      <td>เขาหัวโล้นขยายพื้นที่! มาเลเซียตั้งเป้าส่งออกท...</td>\n",
       "      <td>2019-02-06</td>\n",
       "      <td>2022-11-01</td>\n",
       "      <td>เกษตรกรในมาเลเซียหันมาปลูกทุเรียน แทนการปลูกปา...</td>\n",
       "      <td>https://thestandard.co/malaysia-plans-increase...</td>\n",
       "    </tr>\n",
       "    <tr>\n",
       "      <th>2</th>\n",
       "      <td>เรากำลังจะตาย! นโยบายปลอดโควิดของแดนมังกร สะเท...</td>\n",
       "      <td>2022-05-06</td>\n",
       "      <td>2022-11-01</td>\n",
       "      <td>ผู้ปลูกผลไม้ของไทยเป็นกลุ่มล่าสุดที่ได้รับผลกร...</td>\n",
       "      <td>https://thestandard.co/china-covid-free-policy...</td>\n",
       "    </tr>\n",
       "    <tr>\n",
       "      <th>3</th>\n",
       "      <td>‘บุฟเฟต์ทุเรียน’ เซ็นทรัลเวิลด์ กลับมาอีกครั้ง...</td>\n",
       "      <td>2022-05-02</td>\n",
       "      <td>2022-11-01</td>\n",
       "      <td>เซ็นทรัล ฟู้ด รีเทล เตรียมจัด ‘บุฟเฟต์ทุเรียน’...</td>\n",
       "      <td>https://thestandard.co/durian-buffet-18-22-may...</td>\n",
       "    </tr>\n",
       "    <tr>\n",
       "      <th>4</th>\n",
       "      <td>โลตัสจัด ‘บุฟเฟต์ทุเรียน’ 399 บาท นำรองสาขาราม...</td>\n",
       "      <td>2022-04-30</td>\n",
       "      <td>2022-11-01</td>\n",
       "      <td>โลตัส จัด ‘บุฟเฟต์ทุเรียน’ ราคา 399 บาท นำร่อง...</td>\n",
       "      <td>https://thestandard.co/lotus-s-durian-buffet-3...</td>\n",
       "    </tr>\n",
       "  </tbody>\n",
       "</table>\n",
       "</div>"
      ],
      "text/plain": [
       "                                               Title Publish Date  \\\n",
       "0      ไทยส่งออกทุเรียนไปจีน ไตรมาสแรกเพิ่มขึ้น 14%    2021-05-05   \n",
       "1  เขาหัวโล้นขยายพื้นที่! มาเลเซียตั้งเป้าส่งออกท...   2019-02-06   \n",
       "2  เรากำลังจะตาย! นโยบายปลอดโควิดของแดนมังกร สะเท...   2022-05-06   \n",
       "3  ‘บุฟเฟต์ทุเรียน’ เซ็นทรัลเวิลด์ กลับมาอีกครั้ง...   2022-05-02   \n",
       "4  โลตัสจัด ‘บุฟเฟต์ทุเรียน’ 399 บาท นำรองสาขาราม...   2022-04-30   \n",
       "\n",
       "  Retrieve datetime                                            Content  \\\n",
       "0        2022-11-01  เมื่อวานนี้ (4 พฤษภาคม) อรมน ทรัพย์ทวีธรรม อธิ...   \n",
       "1        2022-11-01  เกษตรกรในมาเลเซียหันมาปลูกทุเรียน แทนการปลูกปา...   \n",
       "2        2022-11-01  ผู้ปลูกผลไม้ของไทยเป็นกลุ่มล่าสุดที่ได้รับผลกร...   \n",
       "3        2022-11-01  เซ็นทรัล ฟู้ด รีเทล เตรียมจัด ‘บุฟเฟต์ทุเรียน’...   \n",
       "4        2022-11-01  โลตัส จัด ‘บุฟเฟต์ทุเรียน’ ราคา 399 บาท นำร่อง...   \n",
       "\n",
       "                                          Source_URL  \n",
       "0  https://thestandard.co/thailand-durian-exports...  \n",
       "1  https://thestandard.co/malaysia-plans-increase...  \n",
       "2  https://thestandard.co/china-covid-free-policy...  \n",
       "3  https://thestandard.co/durian-buffet-18-22-may...  \n",
       "4  https://thestandard.co/lotus-s-durian-buffet-3...  "
      ]
     },
     "execution_count": 10,
     "metadata": {},
     "output_type": "execute_result"
    }
   ],
   "source": [
    "col = ['Title','Publish Date','Retrieve datetime','Content','Source_URL']\n",
    "table = pd.DataFrame([title,published_datetime,retrieved_datetime,content,urls]).transpose()\n",
    "table.columns = ['Title','Publish Date','Retrieve datetime','Content','Source_URL']\n",
    "\n",
    "table.head()"
   ]
  },
  {
   "cell_type": "code",
   "execution_count": 11,
   "id": "ac2702a8-ebea-4909-ac9c-c4781db3d0ac",
   "metadata": {},
   "outputs": [],
   "source": [
    "table = table.to_dict('records')"
   ]
  },
  {
   "cell_type": "code",
   "execution_count": 12,
   "id": "2a547d25-c700-4d1b-86d7-7d3cdaec4087",
   "metadata": {},
   "outputs": [],
   "source": [
    "with open('thestandard.json','w', encoding='utf8') as json_file:\n",
    "    json.dump(table, json_file)"
   ]
  },
  {
   "cell_type": "markdown",
   "id": "5658b4a7-76b2-4dc9-99a9-32a8aef26e01",
   "metadata": {},
   "source": [
    "## Upload data to DataPlatform"
   ]
  },
  {
   "cell_type": "code",
   "execution_count": 13,
   "id": "54df6284-89dc-4803-a0a5-4479bb2002f9",
   "metadata": {},
   "outputs": [],
   "source": [
    "from dsmlibrary.datanode import DataNode"
   ]
  },
  {
   "cell_type": "code",
   "execution_count": 14,
   "id": "3828c5a2-c67e-4999-9db2-aaa0528aeb44",
   "metadata": {},
   "outputs": [],
   "source": [
    "dir_raw_id = 60"
   ]
  },
  {
   "cell_type": "code",
   "execution_count": 15,
   "id": "f3876dcf-503d-4128-a7df-36a2df7bd231",
   "metadata": {},
   "outputs": [
    {
     "name": "stdout",
     "output_type": "stream",
     "text": [
      "Init DataNode sucessful!\n"
     ]
    }
   ],
   "source": [
    "datanode = DataNode()"
   ]
  },
  {
   "cell_type": "code",
   "execution_count": 16,
   "id": "871ad597-3aa7-466b-8121-f191ac440a33",
   "metadata": {},
   "outputs": [
    {
     "data": {
      "application/vnd.jupyter.widget-view+json": {
       "model_id": "263b9772c28d4fe2985b023a74849bf6",
       "version_major": 2,
       "version_minor": 0
      },
      "text/plain": [
       "  0%|          | 0.00/195k [00:00<?, ?B/s]"
      ]
     },
     "metadata": {},
     "output_type": "display_data"
    },
    {
     "data": {
      "text/plain": [
       "{'id': 324,\n",
       " 'msg': 'file thestandard.json create sucessful',\n",
       " 'path': 'supitchaya/DSI310-04/rawData/thestandard.json',\n",
       " 'uploaded': True}"
      ]
     },
     "execution_count": 16,
     "metadata": {},
     "output_type": "execute_result"
    }
   ],
   "source": [
    "datanode.upload_file(directory_id=dir_raw_id, file_path='thestandard.json')"
   ]
  },
  {
   "cell_type": "code",
   "execution_count": null,
   "id": "d8db2a9a-6b06-4390-ab9c-7cb943b21fc4",
   "metadata": {},
   "outputs": [],
   "source": []
  }
 ],
 "metadata": {
  "kernelspec": {
   "display_name": "Python 3 (ipykernel)",
   "language": "python",
   "name": "python3"
  },
  "language_info": {
   "codemirror_mode": {
    "name": "ipython",
    "version": 3
   },
   "file_extension": ".py",
   "mimetype": "text/x-python",
   "name": "python",
   "nbconvert_exporter": "python",
   "pygments_lexer": "ipython3",
   "version": "3.10.5"
  }
 },
 "nbformat": 4,
 "nbformat_minor": 5
}

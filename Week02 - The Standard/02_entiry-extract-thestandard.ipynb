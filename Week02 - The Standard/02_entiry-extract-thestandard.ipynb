{
 "cells": [
  {
   "cell_type": "markdown",
   "id": "512d7ea4-5008-412e-8ef2-68dc225fb267",
   "metadata": {},
   "source": [
    "# 02_entiry-extract"
   ]
  },
  {
   "cell_type": "markdown",
   "id": "2af8db3a-2d6f-4653-bcdc-1c0aa7f6f1ce",
   "metadata": {},
   "source": [
    "## read stored data from DataPlatform"
   ]
  },
  {
   "cell_type": "code",
   "execution_count": 1,
   "id": "98e16618-7254-4c9a-b843-56009e688d3c",
   "metadata": {},
   "outputs": [],
   "source": [
    "from dsmlibrary.datanode import DataNode\n",
    "import json\n",
    "from tqdm.auto import tqdm\n",
    "import pandas as pd"
   ]
  },
  {
   "cell_type": "code",
   "execution_count": 2,
   "id": "bfa53b71-e625-495a-af11-0973bc3a2e29",
   "metadata": {},
   "outputs": [],
   "source": [
    "dir_raw_id = 60\n",
    "dir_process_id = 61"
   ]
  },
  {
   "cell_type": "code",
   "execution_count": 3,
   "id": "0e852b7d-4164-4c91-8c6e-9fe79a25d3fc",
   "metadata": {},
   "outputs": [
    {
     "name": "stdout",
     "output_type": "stream",
     "text": [
      "Init DataNode sucessful!\n"
     ]
    }
   ],
   "source": [
    "datanode = DataNode()"
   ]
  },
  {
   "cell_type": "code",
   "execution_count": 6,
   "id": "b5687abc-e2f9-4045-a030-0429525f22e6",
   "metadata": {},
   "outputs": [
    {
     "data": {
      "text/plain": [
       "{'owner': 'supitchaya',\n",
       " 'human_size': '199.72 KB',\n",
       " 'name': 'thestandard.json',\n",
       " 'description': 'file thestandard.json',\n",
       " 'directory': 60,\n",
       " 'path': 'supitchaya/DSI310-04/rawData/thestandard.json'}"
      ]
     },
     "execution_count": 6,
     "metadata": {},
     "output_type": "execute_result"
    }
   ],
   "source": [
    "meta, fp = datanode.get_file(datanode.get_file_id(directory_id=dir_raw_id, name='thestandard.json'))\n",
    "meta"
   ]
  },
  {
   "cell_type": "code",
   "execution_count": null,
   "id": "8f1a8dcf-d72d-4ee6-bdbb-735367bc5e80",
   "metadata": {},
   "outputs": [],
   "source": [
    "data = json.load(fp)\n",
    "data"
   ]
  },
  {
   "cell_type": "code",
   "execution_count": 9,
   "id": "e3ffa44f-64f5-4c50-b6e5-1ba6d9a6d465",
   "metadata": {},
   "outputs": [
    {
     "data": {
      "text/html": [
       "<div>\n",
       "<style scoped>\n",
       "    .dataframe tbody tr th:only-of-type {\n",
       "        vertical-align: middle;\n",
       "    }\n",
       "\n",
       "    .dataframe tbody tr th {\n",
       "        vertical-align: top;\n",
       "    }\n",
       "\n",
       "    .dataframe thead th {\n",
       "        text-align: right;\n",
       "    }\n",
       "</style>\n",
       "<table border=\"1\" class=\"dataframe\">\n",
       "  <thead>\n",
       "    <tr style=\"text-align: right;\">\n",
       "      <th></th>\n",
       "      <th>Title</th>\n",
       "      <th>Publish Date</th>\n",
       "      <th>Retrieve datetime</th>\n",
       "      <th>Content</th>\n",
       "      <th>Source_URL</th>\n",
       "    </tr>\n",
       "  </thead>\n",
       "  <tbody>\n",
       "    <tr>\n",
       "      <th>0</th>\n",
       "      <td>ไทยส่งออกทุเรียนไปจีน ไตรมาสแรกเพิ่มขึ้น 14%</td>\n",
       "      <td>2021-05-05</td>\n",
       "      <td>2022-11-01</td>\n",
       "      <td>เมื่อวานนี้ (4 พฤษภาคม) อรมน ทรัพย์ทวีธรรม อธิ...</td>\n",
       "      <td>https://thestandard.co/thailand-durian-exports...</td>\n",
       "    </tr>\n",
       "    <tr>\n",
       "      <th>1</th>\n",
       "      <td>เขาหัวโล้นขยายพื้นที่! มาเลเซียตั้งเป้าส่งออกท...</td>\n",
       "      <td>2019-02-06</td>\n",
       "      <td>2022-11-01</td>\n",
       "      <td>เกษตรกรในมาเลเซียหันมาปลูกทุเรียน แทนการปลูกปา...</td>\n",
       "      <td>https://thestandard.co/malaysia-plans-increase...</td>\n",
       "    </tr>\n",
       "    <tr>\n",
       "      <th>2</th>\n",
       "      <td>เรากำลังจะตาย! นโยบายปลอดโควิดของแดนมังกร สะเท...</td>\n",
       "      <td>2022-05-06</td>\n",
       "      <td>2022-11-01</td>\n",
       "      <td>ผู้ปลูกผลไม้ของไทยเป็นกลุ่มล่าสุดที่ได้รับผลกร...</td>\n",
       "      <td>https://thestandard.co/china-covid-free-policy...</td>\n",
       "    </tr>\n",
       "    <tr>\n",
       "      <th>3</th>\n",
       "      <td>‘บุฟเฟต์ทุเรียน’ เซ็นทรัลเวิลด์ กลับมาอีกครั้ง...</td>\n",
       "      <td>2022-05-02</td>\n",
       "      <td>2022-11-01</td>\n",
       "      <td>เซ็นทรัล ฟู้ด รีเทล เตรียมจัด ‘บุฟเฟต์ทุเรียน’...</td>\n",
       "      <td>https://thestandard.co/durian-buffet-18-22-may...</td>\n",
       "    </tr>\n",
       "    <tr>\n",
       "      <th>4</th>\n",
       "      <td>โลตัสจัด ‘บุฟเฟต์ทุเรียน’ 399 บาท นำรองสาขาราม...</td>\n",
       "      <td>2022-04-30</td>\n",
       "      <td>2022-11-01</td>\n",
       "      <td>โลตัส จัด ‘บุฟเฟต์ทุเรียน’ ราคา 399 บาท นำร่อง...</td>\n",
       "      <td>https://thestandard.co/lotus-s-durian-buffet-3...</td>\n",
       "    </tr>\n",
       "    <tr>\n",
       "      <th>5</th>\n",
       "      <td>เครือ CP ออกโรงช่วยเกษตรกรเปิด ‘ร้านขายทุเรียน...</td>\n",
       "      <td>2022-04-23</td>\n",
       "      <td>2022-11-01</td>\n",
       "      <td>‘ทุเรียนไทย’ คือหนึ่งในผลไม้ส่งออกสำคัญ โดยเฉพ...</td>\n",
       "      <td>https://thestandard.co/cp-group-help-farmers-s...</td>\n",
       "    </tr>\n",
       "    <tr>\n",
       "      <th>6</th>\n",
       "      <td>ทุเรียนมาเลเซียฮิตติดตลาดจีน ครองแชมป์ผลไม้ขาย...</td>\n",
       "      <td>2021-06-16</td>\n",
       "      <td>2022-11-01</td>\n",
       "      <td>ทุเรียนมาเลเซียทำยอดขายได้สูงสุดในหมวดหมู่ผักแ...</td>\n",
       "      <td>https://thestandard.co/malaysian-durian-hits-t...</td>\n",
       "    </tr>\n",
       "    <tr>\n",
       "      <th>7</th>\n",
       "      <td>“จากที่กำลังจะฟื้นก็กลายเป็นพังหมด” เสียงสะท้อ...</td>\n",
       "      <td>2020-08-03</td>\n",
       "      <td>2022-11-01</td>\n",
       "      <td>“จากที่กำลังจะฟื้นก็กลายเป็นพังหมด ทำตลาดเงียบ...</td>\n",
       "      <td>https://thestandard.co/ta-phong-fruit-central-...</td>\n",
       "    </tr>\n",
       "    <tr>\n",
       "      <th>8</th>\n",
       "      <td>‘CPTPP’ เหรียญสองด้านที่สังคมต้องมองให้รอบ ก่อ...</td>\n",
       "      <td>2020-06-30</td>\n",
       "      <td>2022-11-01</td>\n",
       "      <td>ประเด็นของการเจรจาข้อตกลง CPTPP หรือความตกลงที...</td>\n",
       "      <td>https://thestandard.co/cptpp-2/</td>\n",
       "    </tr>\n",
       "    <tr>\n",
       "      <th>9</th>\n",
       "      <td>เลขาฯ อีอีซี ยืนยัน ศูนย์กระจายสินค้าอาลีบาบาใ...</td>\n",
       "      <td>2019-11-15</td>\n",
       "      <td>2022-11-01</td>\n",
       "      <td>สร้างความกังวลใจให้กับพ่อค้าแม่ขายสินค้าออนไลน...</td>\n",
       "      <td>https://thestandard.co/eec-alibaba-smart-digit...</td>\n",
       "    </tr>\n",
       "  </tbody>\n",
       "</table>\n",
       "</div>"
      ],
      "text/plain": [
       "                                               Title Publish Date  \\\n",
       "0      ไทยส่งออกทุเรียนไปจีน ไตรมาสแรกเพิ่มขึ้น 14%    2021-05-05   \n",
       "1  เขาหัวโล้นขยายพื้นที่! มาเลเซียตั้งเป้าส่งออกท...   2019-02-06   \n",
       "2  เรากำลังจะตาย! นโยบายปลอดโควิดของแดนมังกร สะเท...   2022-05-06   \n",
       "3  ‘บุฟเฟต์ทุเรียน’ เซ็นทรัลเวิลด์ กลับมาอีกครั้ง...   2022-05-02   \n",
       "4  โลตัสจัด ‘บุฟเฟต์ทุเรียน’ 399 บาท นำรองสาขาราม...   2022-04-30   \n",
       "5  เครือ CP ออกโรงช่วยเกษตรกรเปิด ‘ร้านขายทุเรียน...   2022-04-23   \n",
       "6  ทุเรียนมาเลเซียฮิตติดตลาดจีน ครองแชมป์ผลไม้ขาย...   2021-06-16   \n",
       "7  “จากที่กำลังจะฟื้นก็กลายเป็นพังหมด” เสียงสะท้อ...   2020-08-03   \n",
       "8  ‘CPTPP’ เหรียญสองด้านที่สังคมต้องมองให้รอบ ก่อ...   2020-06-30   \n",
       "9  เลขาฯ อีอีซี ยืนยัน ศูนย์กระจายสินค้าอาลีบาบาใ...   2019-11-15   \n",
       "\n",
       "  Retrieve datetime                                            Content  \\\n",
       "0        2022-11-01  เมื่อวานนี้ (4 พฤษภาคม) อรมน ทรัพย์ทวีธรรม อธิ...   \n",
       "1        2022-11-01  เกษตรกรในมาเลเซียหันมาปลูกทุเรียน แทนการปลูกปา...   \n",
       "2        2022-11-01  ผู้ปลูกผลไม้ของไทยเป็นกลุ่มล่าสุดที่ได้รับผลกร...   \n",
       "3        2022-11-01  เซ็นทรัล ฟู้ด รีเทล เตรียมจัด ‘บุฟเฟต์ทุเรียน’...   \n",
       "4        2022-11-01  โลตัส จัด ‘บุฟเฟต์ทุเรียน’ ราคา 399 บาท นำร่อง...   \n",
       "5        2022-11-01  ‘ทุเรียนไทย’ คือหนึ่งในผลไม้ส่งออกสำคัญ โดยเฉพ...   \n",
       "6        2022-11-01  ทุเรียนมาเลเซียทำยอดขายได้สูงสุดในหมวดหมู่ผักแ...   \n",
       "7        2022-11-01  “จากที่กำลังจะฟื้นก็กลายเป็นพังหมด ทำตลาดเงียบ...   \n",
       "8        2022-11-01  ประเด็นของการเจรจาข้อตกลง CPTPP หรือความตกลงที...   \n",
       "9        2022-11-01  สร้างความกังวลใจให้กับพ่อค้าแม่ขายสินค้าออนไลน...   \n",
       "\n",
       "                                          Source_URL  \n",
       "0  https://thestandard.co/thailand-durian-exports...  \n",
       "1  https://thestandard.co/malaysia-plans-increase...  \n",
       "2  https://thestandard.co/china-covid-free-policy...  \n",
       "3  https://thestandard.co/durian-buffet-18-22-may...  \n",
       "4  https://thestandard.co/lotus-s-durian-buffet-3...  \n",
       "5  https://thestandard.co/cp-group-help-farmers-s...  \n",
       "6  https://thestandard.co/malaysian-durian-hits-t...  \n",
       "7  https://thestandard.co/ta-phong-fruit-central-...  \n",
       "8                    https://thestandard.co/cptpp-2/  \n",
       "9  https://thestandard.co/eec-alibaba-smart-digit...  "
      ]
     },
     "execution_count": 9,
     "metadata": {},
     "output_type": "execute_result"
    }
   ],
   "source": [
    "df = pd.json_normalize(data)\n",
    "df"
   ]
  },
  {
   "cell_type": "code",
   "execution_count": 29,
   "id": "afbe4fc6-07f2-4a11-a51a-130bd022c126",
   "metadata": {},
   "outputs": [],
   "source": [
    "# data = pd.read_csv(fp)\n",
    "# data"
   ]
  },
  {
   "cell_type": "code",
   "execution_count": 8,
   "id": "b11c521a-b7dc-431f-a0c6-1823b6482e40",
   "metadata": {},
   "outputs": [],
   "source": [
    "# df = pd.DataFrame(data, columns = ['Title', 'Publish Date', 'Content', 'Source URL', 'Retrive Date'])\n",
    "# df"
   ]
  },
  {
   "cell_type": "markdown",
   "id": "6ba9cbd0-4eed-4f89-b2b8-e8282def4eba",
   "metadata": {},
   "source": [
    "## write DataNode to DataPlatform"
   ]
  },
  {
   "cell_type": "code",
   "execution_count": 10,
   "id": "270f82a3-0f3e-43be-b720-a978ade57214",
   "metadata": {},
   "outputs": [
    {
     "data": {
      "text/plain": [
       "{'sucess': True,\n",
       " 'file_id': 325,\n",
       " 'path': 'supitchaya/DSI310-04/processData/thestandard.parquet',\n",
       " 'lineage': True}"
      ]
     },
     "execution_count": 10,
     "metadata": {},
     "output_type": "execute_result"
    }
   ],
   "source": [
    "datanode.write(df=df, directory=dir_process_id, name=\"thestandard\", \n",
    "               profiling=True, \n",
    "               lineage=[datanode.get_file_id(directory_id=dir_raw_id, name='thestandard.json')])"
   ]
  },
  {
   "cell_type": "code",
   "execution_count": null,
   "id": "1a799945-4215-4de7-ac0f-132482f9c210",
   "metadata": {},
   "outputs": [],
   "source": []
  }
 ],
 "metadata": {
  "kernelspec": {
   "display_name": "Python 3 (ipykernel)",
   "language": "python",
   "name": "python3"
  },
  "language_info": {
   "codemirror_mode": {
    "name": "ipython",
    "version": 3
   },
   "file_extension": ".py",
   "mimetype": "text/x-python",
   "name": "python",
   "nbconvert_exporter": "python",
   "pygments_lexer": "ipython3",
   "version": "3.10.5"
  }
 },
 "nbformat": 4,
 "nbformat_minor": 5
}

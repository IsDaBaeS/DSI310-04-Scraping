{
 "cells": [
  {
   "cell_type": "markdown",
   "id": "159e859f-de14-483b-b9e6-2e0aa05e604d",
   "metadata": {},
   "source": [
    "# 02_entiry-extract"
   ]
  },
  {
   "cell_type": "markdown",
   "id": "338f24b2-4413-47f0-9ce2-2b2bf2888a27",
   "metadata": {},
   "source": [
    "## install extra library"
   ]
  },
  {
   "cell_type": "code",
   "execution_count": null,
   "id": "bc54d6e3-53a4-40a5-9b00-4e630758df7a",
   "metadata": {},
   "outputs": [],
   "source": [
    "# !pip install transformers torch\n",
    "# !pip install sentencepiece"
   ]
  },
  {
   "cell_type": "markdown",
   "id": "1b2f8145-2def-42e0-bff7-cf74c4c8878f",
   "metadata": {},
   "source": [
    "## read stored data from DataPlatform"
   ]
  },
  {
   "cell_type": "code",
   "execution_count": 22,
   "id": "175d0200-248b-4294-96a4-448130ab0063",
   "metadata": {},
   "outputs": [],
   "source": [
    "from dsmlibrary.datanode import DataNode\n",
    "import json\n",
    "from tqdm.auto import tqdm\n",
    "import pandas as pd"
   ]
  },
  {
   "cell_type": "code",
   "execution_count": 23,
   "id": "f1389ff3-aeb5-4b6f-ba5d-6907b29cded4",
   "metadata": {},
   "outputs": [],
   "source": [
    "dir_raw_id = 60\n",
    "dir_process_id = 61"
   ]
  },
  {
   "cell_type": "code",
   "execution_count": null,
   "id": "72ee7c24-b095-4c4e-8dd4-dc597278d5c8",
   "metadata": {},
   "outputs": [],
   "source": [
    "datanode = DataNode()"
   ]
  },
  {
   "cell_type": "code",
   "execution_count": null,
   "id": "3a5d2eb5-92e4-4002-b419-6614f5004b46",
   "metadata": {},
   "outputs": [],
   "source": [
    "meta, fp = datanode.get_file(datanode.get_file_id(directory_id=dir_raw_id, name='data_thaipbs.json'))\n",
    "meta"
   ]
  },
  {
   "cell_type": "code",
   "execution_count": null,
   "id": "874fd5fe-9231-44f6-977d-03fd700335b2",
   "metadata": {},
   "outputs": [],
   "source": [
    "data = json.load(fp)\n",
    "data"
   ]
  },
  {
   "cell_type": "code",
   "execution_count": null,
   "id": "1e9fb703-537e-4787-9f0a-912b9f2f186f",
   "metadata": {},
   "outputs": [],
   "source": [
    "data = pd.read_csv('./data_thaipbs.csv')\n",
    "data"
   ]
  },
  {
   "cell_type": "code",
   "execution_count": null,
   "id": "eb2170d8-0598-4fd9-ade6-be522a8f8f87",
   "metadata": {},
   "outputs": [],
   "source": [
    "df = pd.json_normalize(data)\n",
    "df"
   ]
  },
  {
   "cell_type": "markdown",
   "id": "6afcaed7-7b6e-470a-885f-fefafe6922b5",
   "metadata": {},
   "source": [
    "## write DataNode to DataPlatform"
   ]
  },
  {
   "cell_type": "code",
   "execution_count": null,
   "id": "67870cad-9096-4737-a4e3-4bcba1db6aa2",
   "metadata": {},
   "outputs": [],
   "source": [
    "# df = pd.DataFrame.from_dict(data, orient = 'index')"
   ]
  },
  {
   "cell_type": "code",
   "execution_count": null,
   "id": "6d358e58-fd59-4663-a796-5a8bd694ccb1",
   "metadata": {},
   "outputs": [],
   "source": [
    "datanode.write(df=df, directory=dir_process_id, name=\"thaipbs_2\", profiling=True, lineage=[datanode.get_file_id(directory_id=dir_raw_id, name='data_thaipbs.json')])"
   ]
  },
  {
   "cell_type": "code",
   "execution_count": null,
   "id": "cd6d96b3-03d7-41ae-9f01-893841f64f1b",
   "metadata": {},
   "outputs": [],
   "source": []
  }
 ],
 "metadata": {
  "kernelspec": {
   "display_name": "Python 3 (ipykernel)",
   "language": "python",
   "name": "python3"
  },
  "language_info": {
   "codemirror_mode": {
    "name": "ipython",
    "version": 3
   },
   "file_extension": ".py",
   "mimetype": "text/x-python",
   "name": "python",
   "nbconvert_exporter": "python",
   "pygments_lexer": "ipython3",
   "version": "3.10.5"
  }
 },
 "nbformat": 4,
 "nbformat_minor": 5
}

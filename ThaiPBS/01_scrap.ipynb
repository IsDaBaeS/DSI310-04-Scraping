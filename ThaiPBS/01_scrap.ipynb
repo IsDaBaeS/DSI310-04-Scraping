{
 "cells": [
  {
   "cell_type": "markdown",
   "id": "b607e82f-8231-4a82-a575-894d00651a17",
   "metadata": {},
   "source": [
    "# 01_scrap"
   ]
  },
  {
   "cell_type": "markdown",
   "id": "4ea3debb-900f-4163-bf98-9e21d993c969",
   "metadata": {},
   "source": [
    "## Getting data from ThaiPBS"
   ]
  },
  {
   "cell_type": "code",
   "execution_count": 1,
   "id": "6279384c-f8c6-409e-98be-26276c201a01",
   "metadata": {},
   "outputs": [],
   "source": [
    "from bs4 import BeautifulSoup as soup\n",
    "import requests\n",
    "import datetime\n",
    "import pandas as pd\n",
    "import json"
   ]
  },
  {
   "cell_type": "code",
   "execution_count": 2,
   "id": "84c5b9ff-6936-469b-b1f8-9aadb446d377",
   "metadata": {},
   "outputs": [],
   "source": [
    "thaipbs_url = 'https://www.thaipbs.or.th'\n",
    "r = requests.get('https://www.thaipbs.or.th/search?q=%E0%B8%B7%E0%B8%B8%E0%B8%AA%E0%B9%88%E0%B8%87%E0%B8%AD%E0%B8%AD%E0%B8%81%E0%B8%97%E0%B8%B8%E0%B9%80%E0%B8%A3%E0%B8%B5%E0%B8%A2%E0%B8%99&siteType=news&type=&published_range=&page=1',)\n",
    "b = soup(r.content, 'html.parser')"
   ]
  },
  {
   "cell_type": "code",
   "execution_count": 3,
   "id": "27580ab9-02de-42c5-9b1a-7eeccf5b379b",
   "metadata": {},
   "outputs": [],
   "source": [
    "title = []\n",
    "summary = []\n",
    "content = []\n",
    "published_datetime = []\n",
    "retrive_datetime = []"
   ]
  },
  {
   "cell_type": "code",
   "execution_count": null,
   "id": "de0cb2c7-e44b-4ab2-8502-119995857b5d",
   "metadata": {},
   "outputs": [],
   "source": [
    "for news in b.findAll('div', attrs={'class' : 'ContentCardstyle__Container-sc-odesfa-0 iqGpPt'}):\n",
    "    titles = news.find('p').get_text()\n",
    "    #print(title)\n",
    "    title.append(titles)\n",
    "print(title)"
   ]
  },
  {
   "cell_type": "code",
   "execution_count": 5,
   "id": "05c8c7a6-c1d0-46b1-a020-d3924214a57a",
   "metadata": {},
   "outputs": [],
   "source": [
    "url = []\n",
    "\n",
    "for news in b.findAll('div', attrs={'class' : 'ContentInformationLayoutAstyle__Container-sc-1ut12ee-0 chsKqA'}):\n",
    "    url.append(news.find('a', href=True)['href'])"
   ]
  },
  {
   "cell_type": "code",
   "execution_count": null,
   "id": "023004e2-260b-4547-8eb8-2fcfd508ec24",
   "metadata": {},
   "outputs": [],
   "source": [
    "for link in url:\n",
    "    page = requests.get(link)\n",
    "    bsobj = soup(page.content, 'html.parser')\n",
    "    for news in bsobj.findAll('h4'):\n",
    "        s = news.text.strip()\n",
    "        #print(news.text.strip())\n",
    "        summary.append(s)\n",
    "    \n",
    "    for news in bsobj.findAll('div', attrs={'class':'Contentstyle__NewsContentContainer-sc-16duq30-0 hUUwiH'}):\n",
    "        d = news.text\n",
    "        di = d.strip()\n",
    "        dis = di.replace('\\n', '')\n",
    "        disc = dis.replace('\\xa0',' ')\n",
    "        content.append(disc)\n",
    "\n",
    "    for n in  bsobj.findAll('div', attrs={'class' : 'NewsHeaderstyle__MetaContainer-sc-1l82i9z-4 hWmbNM'}):\n",
    "        te = n.find('span').get_text()\n",
    "        published_datetime.append(te)\n",
    "        \n",
    "        retrive = str(datetime.date.today())\n",
    "        retrive_datetime.append(retrive)\n",
    "        # retrive_datetime.append(datetime.date.today())\n",
    "\n",
    "print(retrive_datetime)\n",
    "# print(summary)\n",
    "# print(content)\n",
    "# print(published_datetime)"
   ]
  },
  {
   "cell_type": "code",
   "execution_count": null,
   "id": "648cdd49-3356-4e6c-9976-03e555f58bc5",
   "metadata": {},
   "outputs": [],
   "source": [
    "# col = ['Title','Publish Date','Content','Summary','Source_URL', 'Retrive_datetime']\n",
    "table = pd.DataFrame([title,published_datetime,content,summary,url,retrive_datetime]).transpose()\n",
    "table.columns = ['Title','Publish Date','Content','Summary','Source_URL','Retrive Date']\n",
    "\n",
    "print(table)"
   ]
  },
  {
   "cell_type": "code",
   "execution_count": 31,
   "id": "1f19deb4-334c-4b0c-97d8-6202ecb6f968",
   "metadata": {},
   "outputs": [],
   "source": [
    "table_csv = table.to_csv('data_thaipbs.csv', index=False)"
   ]
  },
  {
   "cell_type": "code",
   "execution_count": 32,
   "id": "e22e9f06-790b-4868-ac00-9f399c2f6bda",
   "metadata": {},
   "outputs": [],
   "source": [
    "table_1 = table.to_dict('records')"
   ]
  },
  {
   "cell_type": "code",
   "execution_count": null,
   "id": "37052998-7798-41ef-ba8d-2eebdd593dab",
   "metadata": {},
   "outputs": [],
   "source": [
    "table_1"
   ]
  },
  {
   "cell_type": "code",
   "execution_count": null,
   "id": "ff094719-ab90-4523-9d3b-1f7a97861da8",
   "metadata": {},
   "outputs": [],
   "source": [
    "print(f\"Total news : {len(table_1)}\")"
   ]
  },
  {
   "cell_type": "code",
   "execution_count": 36,
   "id": "9e05705a-130d-4129-8d2b-77bd3c452f7f",
   "metadata": {},
   "outputs": [],
   "source": [
    "with open('data_thaipbs.json', 'w') as f:\n",
    "    json.dump(table_1, f)"
   ]
  },
  {
   "cell_type": "markdown",
   "id": "71cd7cf3-ab9c-4d6b-b175-6d019c60a5ef",
   "metadata": {},
   "source": [
    "## Upload data to DataPlatform"
   ]
  },
  {
   "cell_type": "code",
   "execution_count": 37,
   "id": "7d7ef104-01c4-4989-9437-839b2b362826",
   "metadata": {},
   "outputs": [],
   "source": [
    "from dsmlibrary.datanode import DataNode"
   ]
  },
  {
   "cell_type": "code",
   "execution_count": 38,
   "id": "947f4056-e73d-400d-aba4-507978e6bdd3",
   "metadata": {},
   "outputs": [],
   "source": [
    "dir_raw_id = 60"
   ]
  },
  {
   "cell_type": "code",
   "execution_count": null,
   "id": "7549ee88-d50a-4846-ae0f-04fe8d63820e",
   "metadata": {},
   "outputs": [],
   "source": [
    "datanode = DataNode()"
   ]
  },
  {
   "cell_type": "code",
   "execution_count": null,
   "id": "4a33749c-4f4e-4b95-afc2-b4abe450bd5a",
   "metadata": {},
   "outputs": [],
   "source": [
    "datanode.upload_file(directory_id=dir_raw_id, file_path='data_thaipbs.json')"
   ]
  },
  {
   "cell_type": "code",
   "execution_count": null,
   "id": "02737a71-f7e8-4c03-8357-ff2ca134e064",
   "metadata": {},
   "outputs": [],
   "source": [
    "datanode.upload_file(directory_id=dir_raw_id, file_path='data_thaipbs.csv')"
   ]
  },
  {
   "cell_type": "code",
   "execution_count": null,
   "id": "e665a5fd-2385-4f77-b597-d9aab87ffa02",
   "metadata": {},
   "outputs": [],
   "source": []
  }
 ],
 "metadata": {
  "kernelspec": {
   "display_name": "Python 3 (ipykernel)",
   "language": "python",
   "name": "python3"
  },
  "language_info": {
   "codemirror_mode": {
    "name": "ipython",
    "version": 3
   },
   "file_extension": ".py",
   "mimetype": "text/x-python",
   "name": "python",
   "nbconvert_exporter": "python",
   "pygments_lexer": "ipython3",
   "version": "3.10.5"
  }
 },
 "nbformat": 4,
 "nbformat_minor": 5
}

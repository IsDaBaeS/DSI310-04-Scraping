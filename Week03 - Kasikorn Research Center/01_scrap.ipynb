{
 "cells": [
  {
   "cell_type": "markdown",
   "id": "d8a7cbb4",
   "metadata": {},
   "source": [
    "# 01_scrap"
   ]
  },
  {
   "cell_type": "markdown",
   "id": "0cfee84c",
   "metadata": {},
   "source": [
    "## Getting data from Kasikorn Research"
   ]
  },
  {
   "cell_type": "code",
   "execution_count": null,
   "id": "ea378df0",
   "metadata": {},
   "outputs": [],
   "source": [
    "from bs4 import BeautifulSoup\n",
    "import requests\n",
    "import datetime\n",
    "import pandas as pd\n",
    "import json"
   ]
  },
  {
   "cell_type": "code",
   "execution_count": null,
   "id": "0cc2bdf2",
   "metadata": {},
   "outputs": [],
   "source": [
    "data = requests.get('https://www.kasikornresearch.com/th/analysis/Pages/index.aspx?s=ทุเรียน')\n",
    "data"
   ]
  },
  {
   "cell_type": "code",
   "execution_count": null,
   "id": "a9eef1cd",
   "metadata": {},
   "outputs": [],
   "source": [
    "s = BeautifulSoup(data.content, 'html.parser')"
   ]
  },
  {
   "cell_type": "code",
   "execution_count": null,
   "id": "178a9103",
   "metadata": {},
   "outputs": [],
   "source": [
    "publish_date = []\n",
    "retrieve_date = []\n",
    "title = []\n",
    "content = []\n",
    "source_url = []"
   ]
  },
  {
   "cell_type": "code",
   "execution_count": null,
   "id": "4702fe1c",
   "metadata": {},
   "outputs": [],
   "source": [
    "url_pre = 'https://www.kasikornresearch.com/'\n",
    "\n",
    "for news in s.find_all('div', {'class': 'meta'}):\n",
    "    link = url_pre + news.find('a')['href']\n",
    "    source_url.append(link)\n",
    "    \n",
    "    topic = news.find('a').text\n",
    "    title.append(topic)\n",
    "    \n",
    "    pub = news.find('p').text\n",
    "    publish_date.append(pub)\n",
    "    \n",
    "    retrieve = str(datetime.date.today())\n",
    "    retrieve_date.append(retrieve)\n",
    "\n",
    "# print(publish_datetime)\n",
    "# print(title) \n",
    "# print(source_url)"
   ]
  },
  {
   "cell_type": "code",
   "execution_count": null,
   "id": "c1fa004c",
   "metadata": {},
   "outputs": [],
   "source": [
    "for c in source_url:\n",
    "    so = requests.get(c)\n",
    "    no = BeautifulSoup(so.content, 'html.parser')\n",
    "    \n",
    "    for n in no.find_all('div', {'class', 'art-content entrycontent'}):\n",
    "        a = n.text\n",
    "        a = a.strip()\n",
    "        a = a.replace('\\u200b', '')\n",
    "        a = a.replace('\\xa0', '')\n",
    "        a = a.replace('\\r', '')\n",
    "        a = a.replace('\\n', '')\n",
    "        a = a.replace('Scan QR Codeหมายเหตุรายงานวิจัยฉบับนี้จัดทำเพื่อเผยแพร่ทั่วไป โดยจัดทำขึ้นจากแหล่งข้อมูลต่างๆ ที่น่าเชื่อถือ แต่บริษัทฯ มิอาจรับรองความถูกต้อง ความน่าเชื่อถือ หรือความสมบูรณ์เพื่อใช้ในทางการค้าหรือประโยชน์อื่นใด บริษัทฯ อาจมีการเปลี่ยนแปลงข้อมูลได้ตลอดโดยไม่ต้องแจ้งให้ทราบล่วงหน้า ทั้งนี้ผู้ใช้ข้อมูลต้องใช้ความระมัดระวังในการใช้ข้อมูลต่างๆ ด้วยวิจารณญาณตนเองและรับผิดชอบในความเสี่ยงเองทั้งสิ้น บริษัทฯ จะไม่รับผิดต่อผู้ใช้หรือบุคคลใดในความเสียหายใดจากการใช้ข้อมูลดังกล่าว ข้อมูลในรายงานฉบับนี้จึงไม่ถือว่าเป็นการให้ความเห็น หรือคำแนะนำในการตัดสินใจทางธุรกิจ แต่อย่างใดทั้งสิ้น', '')\n",
    "        content.append(a)\n",
    "\n",
    "# print(content)"
   ]
  },
  {
   "cell_type": "code",
   "execution_count": null,
   "id": "ff4e020b",
   "metadata": {},
   "outputs": [],
   "source": [
    "df = pd.DataFrame([title, publish_date, content, source_url, retrieve_date]).transpose()\n",
    "df.columns = ['title', 'publish_date', 'content', 'source_url', 'retrieve_date']\n",
    "df"
   ]
  },
  {
   "cell_type": "code",
   "execution_count": null,
   "id": "2cab318b",
   "metadata": {},
   "outputs": [],
   "source": [
    "df_json = df.to_dict('records')"
   ]
  },
  {
   "cell_type": "code",
   "execution_count": null,
   "id": "9e203dc0",
   "metadata": {},
   "outputs": [],
   "source": [
    "print(f'Total news : {len(df_json)}')"
   ]
  },
  {
   "cell_type": "code",
   "execution_count": null,
   "id": "c40acbea",
   "metadata": {},
   "outputs": [],
   "source": [
    "with open('analysis_durians_kasikorn.json', 'w', encoding='utf8') as f:\n",
    "    json.dump(df_json, f)"
   ]
  },
  {
   "cell_type": "markdown",
   "id": "6763d562",
   "metadata": {},
   "source": [
    "## Upload data to DataPlatform"
   ]
  },
  {
   "cell_type": "code",
   "execution_count": null,
   "id": "d7bb0ca3",
   "metadata": {
    "scrolled": true
   },
   "outputs": [],
   "source": [
    "from dsmlibrary.datanode import DataNode"
   ]
  },
  {
   "cell_type": "code",
   "execution_count": null,
   "id": "d025f763",
   "metadata": {},
   "outputs": [],
   "source": [
    "dir_raw_id = 60"
   ]
  },
  {
   "cell_type": "code",
   "execution_count": null,
   "id": "230ec53b",
   "metadata": {},
   "outputs": [],
   "source": [
    "datanode = DataNode()"
   ]
  },
  {
   "cell_type": "code",
   "execution_count": null,
   "id": "2efb0cd4",
   "metadata": {},
   "outputs": [],
   "source": [
    "datanode.upload_file(directory_id=dir_raw_id, file_path='analysis_durians_kasikorn.json')"
   ]
  },
  {
   "cell_type": "code",
   "execution_count": null,
   "id": "e3809c54-3db0-4426-857b-c65bd39d943f",
   "metadata": {},
   "outputs": [],
   "source": []
  }
 ],
 "metadata": {
  "kernelspec": {
   "display_name": "Python 3 (ipykernel)",
   "language": "python",
   "name": "python3"
  },
  "language_info": {
   "codemirror_mode": {
    "name": "ipython",
    "version": 3
   },
   "file_extension": ".py",
   "mimetype": "text/x-python",
   "name": "python",
   "nbconvert_exporter": "python",
   "pygments_lexer": "ipython3",
   "version": "3.10.5"
  }
 },
 "nbformat": 4,
 "nbformat_minor": 5
}
